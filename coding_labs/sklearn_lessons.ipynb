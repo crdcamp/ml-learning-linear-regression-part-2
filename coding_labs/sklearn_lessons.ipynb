{
 "cells": [
  {
   "cell_type": "markdown",
   "id": "8a3f2faf",
   "metadata": {},
   "source": [
    "When you're back at it, start again here. Ignore the textbook for now and learn all the `scikit` stuff before continuing."
   ]
  }
 ],
 "metadata": {
  "language_info": {
   "name": "python"
  }
 },
 "nbformat": 4,
 "nbformat_minor": 5
}
