{
 "cells": [
  {
   "cell_type": "markdown",
   "id": "b8527300",
   "metadata": {},
   "source": [
    "# Textbook Coding Lab Review\n",
    "\n",
    "Here we're gonna review everything we did in the coding lab alongside the [sklearn.linear_model](https://scikit-learn.org/stable/api/sklearn.linear_model.html) documentation. This way we can ensure all best practices are up to date. It's also definitely gonna help further your understanding on how the whole process works for these different methodologies."
   ]
  }
 ],
 "metadata": {
  "language_info": {
   "name": "python"
  }
 },
 "nbformat": 4,
 "nbformat_minor": 5
}
