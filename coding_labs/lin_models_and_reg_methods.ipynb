{
 "cells": [
  {
   "cell_type": "markdown",
   "id": "252c6f22",
   "metadata": {},
   "source": [
    "# Lab: Linear Models and Regularization Methods\n",
    "\n",
    "Let's import some stuff."
   ]
  },
  {
   "cell_type": "code",
   "execution_count": 35,
   "id": "93fd2568",
   "metadata": {},
   "outputs": [],
   "source": [
    "import numpy as np\n",
    "import pandas as pd\n",
    "from matplotlib.pyplot import subplots\n",
    "from statsmodels.api import OLS\n",
    "import sklearn.model_selection as skm\n",
    "import sklearn.linear_model as skl\n",
    "from sklearn.preprocessing import StandardScaler\n",
    "from ISLP import load_data\n",
    "from ISLP.models import ModelSpec as MS\n",
    "from functools import partial\n",
    "\n",
    "from sklearn.pipeline import Pipeline\n",
    "from sklearn.decomposition import PCA\n",
    "from sklearn.cross_decomposition import PLSRegression\n",
    "from ISLP.models import \\\n",
    "    (Stepwise ,\n",
    "    sklearn_selected ,\n",
    "    sklearn_selection_path )\n",
    "from l0bnb import fit_path"
   ]
  },
  {
   "cell_type": "markdown",
   "id": "45f04030",
   "metadata": {},
   "source": [
    "# Subset Selection Methods\n",
    "\n",
    "Here we implement methods that reduce the number of parameters in a model by restricting the model to a subset of the input variables.\n",
    "\n",
    "## Forward Selection\n",
    "\n",
    "We will apply the forward-selection approach to the `Hitters` data. We wish to predict a baseball player's `Salary` on the basis of various statistics associated with performance in the previous year.\n",
    "\n",
    "First of all, we note that the `Salary` variable is missing for some players. The `np.isnan()` function can be used to identify the missing observations. It returns an array of the same shape as the input vector, with a `True` for any elements that are missing, and a `False` for non-missing elements."
   ]
  },
  {
   "cell_type": "code",
   "execution_count": 36,
   "id": "ed242c87",
   "metadata": {},
   "outputs": [
    {
     "data": {
      "text/plain": [
       "(322, 20)"
      ]
     },
     "execution_count": 36,
     "metadata": {},
     "output_type": "execute_result"
    }
   ],
   "source": [
    "Hitters = load_data('Hitters')\n",
    "np.isnan(Hitters[\"Salary\"]).sum()\n",
    "Hitters.shape"
   ]
  },
  {
   "cell_type": "markdown",
   "id": "103bde43",
   "metadata": {},
   "source": [
    "We see that `Salary` is missing for 59 players. The `dropna()` method of data frames removes all of the rows that have missing values in any variable."
   ]
  },
  {
   "cell_type": "code",
   "execution_count": 37,
   "id": "3c3a5219",
   "metadata": {},
   "outputs": [
    {
     "data": {
      "text/plain": [
       "(263, 20)"
      ]
     },
     "execution_count": 37,
     "metadata": {},
     "output_type": "execute_result"
    }
   ],
   "source": [
    "Hitters = Hitters.dropna(); # `;` suppresses the output of the given line\n",
    "Hitters.shape"
   ]
  },
  {
   "cell_type": "markdown",
   "id": "37ff2d5e",
   "metadata": {},
   "source": [
    "We first choose the best model using forward selection based on Cp\n",
    "\n",
    "**Note:** Cp is part of the Cp, AIC, BIC, and Adjusted R2 options for estimating the test MSE. We create a test MSE because any sort of interaction with the actual test set would potentially cause overfitting for the model.\n",
    "\n",
    "This score is not built in as a metric to `sklearn`. We therefore define a function to compute it ourselves, and use it as a scorer. By default, `sklearn` tries to maximize a score, hence our scoring function computes the negative Cp statistic."
   ]
  },
  {
   "cell_type": "code",
   "execution_count": 38,
   "id": "de5b6fb1",
   "metadata": {},
   "outputs": [],
   "source": [
    "def nCp(sigma2, estimator, X, Y):\n",
    "    \"Negative Cp statistic\"\n",
    "    n, p = X.shape\n",
    "    Yhat = estimator.predict(X)\n",
    "    RSS = np.sum((Y - Yhat)**2)\n",
    "    return -(RSS + 2 * p * sigma2) / n"
   ]
  },
  {
   "cell_type": "markdown",
   "id": "588b16a0",
   "metadata": {},
   "source": [
    "We need to estimate the residual variance `std**2`, which is the first argument in our scoring function above. We will fit the biggest model using all the variables, and estimate `std**2` based on its MSE."
   ]
  },
  {
   "cell_type": "code",
   "execution_count": 39,
   "id": "577825b4",
   "metadata": {},
   "outputs": [],
   "source": [
    "design = MS(Hitters.columns.drop(\"Salary\")).fit(Hitters)\n",
    "Y = np.array(Hitters[\"Salary\"])\n",
    "X = design.transform(Hitters)\n",
    "sigma2 = OLS(Y, X).fit().scale"
   ]
  },
  {
   "cell_type": "markdown",
   "id": "b6d7fd10",
   "metadata": {},
   "source": [
    "The function `sklearn_selected()` expects a scorer with just three arguments-the last three in the definition of `nCp()` above. We use the function `partial()` to freeze the first argument with our estimate of `std**2`."
   ]
  },
  {
   "cell_type": "code",
   "execution_count": 40,
   "id": "7a9f35f9",
   "metadata": {},
   "outputs": [],
   "source": [
    "neg_Cp = partial(nCp, sigma2)"
   ]
  },
  {
   "cell_type": "markdown",
   "id": "77c20d93",
   "metadata": {},
   "source": [
    "We can now use the `neg_Cp()` as a scorer for model selection.\n",
    "\n",
    "Along with a score we need to specify the search strategy. This is done through the objecrt `Stepwise()` in the `ISLP.models` package. The method `Stepwise.first_peak()` runs forward stepwise until any further additions to the model do not result in an improvement in the evaluation score.\n",
    "\n",
    "Similarly, the method `Stepwise.fixed_steps()` runs a fixed number of steps of stepwise search."
   ]
  },
  {
   "cell_type": "code",
   "execution_count": 41,
   "id": "f0892558",
   "metadata": {},
   "outputs": [],
   "source": [
    "strategy = Stepwise.first_peak(design,\n",
    "                               direction=\"forward\",\n",
    "                               max_terms=len(design.terms))"
   ]
  },
  {
   "cell_type": "markdown",
   "id": "1ee6a0f7",
   "metadata": {},
   "source": [
    "We now fit a linear regression model with `Salary` as outcome using forward selection. To do so, we use the function `sklearn_selected()` from the `ISLP.models` package. This takes a model from `statsmodels` along with a search strategy and selects a model with its `fit` method. Without specifying a `scoring` argument, the score defaults to MSE, and so all 19 variables will be selected."
   ]
  },
  {
   "cell_type": "code",
   "execution_count": 42,
   "id": "a65035d6",
   "metadata": {},
   "outputs": [
    {
     "data": {
      "text/plain": [
       "('Assists',\n",
       " 'AtBat',\n",
       " 'CAtBat',\n",
       " 'CHits',\n",
       " 'CHmRun',\n",
       " 'CRBI',\n",
       " 'CRuns',\n",
       " 'CWalks',\n",
       " 'Division',\n",
       " 'Errors',\n",
       " 'Hits',\n",
       " 'HmRun',\n",
       " 'League',\n",
       " 'NewLeague',\n",
       " 'PutOuts',\n",
       " 'RBI',\n",
       " 'Runs',\n",
       " 'Walks',\n",
       " 'Years')"
      ]
     },
     "execution_count": 42,
     "metadata": {},
     "output_type": "execute_result"
    }
   ],
   "source": [
    "hitters_MSE = sklearn_selected(OLS, strategy)\n",
    "hitters_MSE.fit(Hitters, Y)\n",
    "hitters_MSE.selected_state_"
   ]
  },
  {
   "cell_type": "markdown",
   "id": "114836d0",
   "metadata": {},
   "source": [
    "Using `nug_Cp` results in a smaller model, as expected, with just 10 variables selected."
   ]
  },
  {
   "cell_type": "code",
   "execution_count": 43,
   "id": "b3825532",
   "metadata": {},
   "outputs": [
    {
     "data": {
      "text/plain": [
       "('Assists',\n",
       " 'AtBat',\n",
       " 'CAtBat',\n",
       " 'CRBI',\n",
       " 'CRuns',\n",
       " 'CWalks',\n",
       " 'Division',\n",
       " 'Hits',\n",
       " 'PutOuts',\n",
       " 'Walks')"
      ]
     },
     "execution_count": 43,
     "metadata": {},
     "output_type": "execute_result"
    }
   ],
   "source": [
    "hitters_Cp = sklearn_selected(OLS,\n",
    "                              strategy,\n",
    "                              scoring=neg_Cp)\n",
    "hitters_Cp.fit(Hitters, Y)\n",
    "hitters_Cp.selected_state_"
   ]
  },
  {
   "cell_type": "markdown",
   "id": "26122c6a",
   "metadata": {},
   "source": [
    "## Choosing Among Models Using the Validation Set Approach and Cross-Validation\n",
    "\n",
    "As an alternative to using Cp, we might try cross-validation to select a model in forward selection. For this, we need a method that stores the full path of models found in forward selection, and allows predictions for each of these.\n",
    "\n",
    "This can be done with the `sklearn_selection_path()` estimator from `ISLP.models`. The function `cross_val_predict()` from `ISLP.models` computes the cross-validates predictions for each of the models along the path, which we can use to evaluate the cross-validated MSE along the path.\n",
    "\n",
    "Here we define a strategy that fits the full forward selection path. While there are various parameter choices for `sklearn_selection_path()`, we use the defaults here, which selects the model at each step based on the biggest reduction in RSS."
   ]
  },
  {
   "cell_type": "code",
   "execution_count": 44,
   "id": "3e250f05",
   "metadata": {},
   "outputs": [],
   "source": [
    "strategy = Stepwise.fixed_steps(design,\n",
    "                                len(design.terms),\n",
    "                                direction=\"forward\")\n",
    "full_path = sklearn_selection_path(OLS, strategy)"
   ]
  },
  {
   "cell_type": "markdown",
   "id": "26c509c2",
   "metadata": {},
   "source": [
    "We now fit the full forward-selection path on the `Hitters` data and compute the fitted values."
   ]
  },
  {
   "cell_type": "code",
   "execution_count": 45,
   "id": "b1555752",
   "metadata": {},
   "outputs": [
    {
     "data": {
      "text/plain": [
       "(263, 20)"
      ]
     },
     "execution_count": 45,
     "metadata": {},
     "output_type": "execute_result"
    }
   ],
   "source": [
    "full_path.fit(Hitters, Y)\n",
    "Yhat_in = full_path.predict(Hitters)\n",
    "Yhat_in.shape"
   ]
  },
  {
   "cell_type": "markdown",
   "id": "576aa8df",
   "metadata": {},
   "source": [
    "This gives us an array of fitted values with 20 steps in all, including the fitted mean for the null model that we can use to evaluate in-sample MSE. As expected, the in-sample MSE improves each step we take, indicating we must use either the validation or cross-validation approach to select the number of steps. We fix the y-axis to range from 50,000 to 250,000 to compare the cross-validation and validation set MSE below, as well as other methods such as ridge regression, lasso, and principal components regression."
   ]
  },
  {
   "cell_type": "code",
   "execution_count": 46,
   "id": "268c3ee0",
   "metadata": {},
   "outputs": [
    {
     "data": {
      "text/plain": [
       "(50000.0, 250000.0)"
      ]
     },
     "execution_count": 46,
     "metadata": {},
     "output_type": "execute_result"
    },
    {
     "data": {
      "image/png": "[encoded data removed]",
      "text/plain": [
       "<Figure size 800x800 with 1 Axes>"
      ]
     },
     "metadata": {},
     "output_type": "display_data"
    }
   ],
   "source": [
    "mse_fig, ax = subplots(figsize=(8,8))\n",
    "insample_mse = ((Yhat_in - Y[: ,None])**2).mean(0)\n",
    "n_steps = insample_mse.shape[0]\n",
    "ax.plot(np.arange(n_steps),\n",
    "        insample_mse,\n",
    "        \"k\", # color black\n",
    "        label=\"In-sample\")\n",
    "ax.set_ylabel(\"MSE\",\n",
    "              fontsize=20)\n",
    "ax.set_xlabel(\"# steps of forward stepwise\",\n",
    "              fontsize=20)\n",
    "ax.set_xticks(np.arange(n_steps)[::2])\n",
    "ax.legend()\n",
    "ax.set_ylim([50000, 250000])"
   ]
  },
  {
   "cell_type": "markdown",
   "id": "0c6dca07",
   "metadata": {},
   "source": [
    "Notice the expression `None` in `Y[:,None]` above. This adds an axis (dimension) to the one-dimensional array `Y`, which allows it to be recycled when subtracted fro the two-dimensional `Yhat_in`.\n",
    "\n",
    "We are now ready to use cross-validation to estimate test error along the model path. We must use **only the training observations** to perform all aspects of model-fitting - including variable selection. Therefore, the determination of which model of a given size is best must be made using only the training observations in each training fold. This point is subtle but important. If the full data set is used to select the best subset at each step, then the validation set errors and cross-validation errors that we obtain will not be accurate estimates of the test error.\n",
    "\n",
    "We now compute the cross-validated predicted values using 5-fold cross-validation."
   ]
  },
  {
   "cell_type": "code",
   "execution_count": 47,
   "id": "34f1d1b7",
   "metadata": {},
   "outputs": [
    {
     "name": "stdout",
     "output_type": "stream",
     "text": [
      "(263, 20)\n"
     ]
    },
    {
     "data": {
      "text/plain": [
       "(263, 20)"
      ]
     },
     "execution_count": 47,
     "metadata": {},
     "output_type": "execute_result"
    }
   ],
   "source": [
    "K = 5\n",
    "kfold = skm.KFold(K,\n",
    "                  random_state=0,\n",
    "                  shuffle=True)\n",
    "Yhat_cv = skm.cross_val_predict(full_path,\n",
    "                                Hitters,\n",
    "                                Y,\n",
    "                                cv=kfold)\n",
    "print(Yhat_in.shape)\n",
    "Yhat_cv.shape"
   ]
  },
  {
   "cell_type": "markdown",
   "id": "592e2e0e",
   "metadata": {},
   "source": [
    "The prediction matrix `Yhat_cv` is the same shape as `Yhat_in`; the difference is that the predictions in each row, corresponding to a particular index, were made from models fit on a training fold that didn't include that row.\n",
    "\n",
    "At each model along the path, we compute MSE in each of the cross-validation folds. These will average to get the mean MSE, and can also use the individual values to compute a crude estimate of the standard error of the mean. Hence we must know the test indices for each cross-validation split. This 9can be found by using the `split()` method of `kfold`. Because we fixed the random state above, whenever we split any array with the same number of rows as Y we recover the same training and test indices, though we simply ignore the training indices below.\n",
    "\n",
    "**Note:** The estimate is crude because the five error estimates are based on overlapping training sets, and hence are not independent."
   ]
  },
  {
   "cell_type": "code",
   "execution_count": null,
   "id": "89979b9b",
   "metadata": {},
   "outputs": [
    {
     "data": {
      "text/plain": [
       "(20, 5)"
      ]
     },
     "execution_count": 53,
     "metadata": {},
     "output_type": "execute_result"
    }
   ],
   "source": [
    "cv_mse = []\n",
    "\n",
    "# There's likely a more computationally efficient way to do this with numpy using matrices\n",
    "for train_idx , test_idx in kfold.split(Y):\n",
    "    errors = (Yhat_cv[test_idx] - Y[test_idx ,None]) **2\n",
    "    cv_mse.append(errors.mean (0)) # column means\n",
    "cv_mse = np.array(cv_mse).T\n",
    "cv_mse.shape"
   ]
  },
  {
   "cell_type": "markdown",
   "id": "20991152",
   "metadata": {},
   "source": [
    "We now add the cross-validation error estimates to our MSE plot. We include the mean error across the five folds, and the estimate of the standard error of the mean."
   ]
  },
  {
   "cell_type": "code",
   "execution_count": 54,
   "id": "46a8555a",
   "metadata": {},
   "outputs": [
    {
     "data": {
      "image/png": "[encoded data removed]",
      "text/plain": [
       "<Figure size 800x800 with 1 Axes>"
      ]
     },
     "execution_count": 54,
     "metadata": {},
     "output_type": "execute_result"
    }
   ],
   "source": [
    "ax.errorbar(np.arange(n_steps),\n",
    "            cv_mse.mean(1),\n",
    "            cv_mse.std(1) / np.sqrt(K),\n",
    "            label=\"Cross-validated\",\n",
    "            c=\"r\") # color red\n",
    "\n",
    "ax.set_ylim([50000, 250000])\n",
    "ax.legend()\n",
    "mse_fig"
   ]
  },
  {
   "cell_type": "markdown",
   "id": "a8fef2e2",
   "metadata": {},
   "source": [
    "# Best Subset Selection\n",
    "\n",
    "Forward stepwise is a **greedy** selection procedure; at each step it augments the current set by including one additional variable. We now apply best subset selection to the `Hitters` data, which for every subset size, searches for the best set of predictors. \n",
    "\n",
    "We will use a package called `l0bnb` to perform best subset selection. Instead of constraining the subsset to be a given size, this package produces a path of solutions using the subset size as a penalty rather than a constraint. Although the distinction is subtle, the difference comes when we cross-validate."
   ]
  },
  {
   "cell_type": "code",
   "execution_count": 55,
   "id": "f048aaa5",
   "metadata": {},
   "outputs": [],
   "source": [
    "D = design.fit_transform(Hitters)\n",
    "D = D.drop(\"intercept\", axis=1)\n",
    "X = np.asarray(D)"
   ]
  },
  {
   "cell_type": "markdown",
   "id": "ef1cce66",
   "metadata": {},
   "source": [
    "Here we excluded the first column corresponding to the intercept, as `l0bnb` will fit the intercept separately. We can find a path using the `fit_path()` function.\n",
    "\n",
    "**Turns out that `l0bnb` is outdated and won't work with a newer version of `numpy`. Either way, who cares. Best subset selection is inefficient and pointless anyway.**"
   ]
  },
  {
   "cell_type": "markdown",
   "id": "5c225864",
   "metadata": {},
   "source": [
    "# Ridge Regression and the Lasso\n",
    "\n",
    "We will now use the `sklearn.linear_model` package (finally) to fit ridge and lasso regularized linear models on the `Hitters` data. We start with the model matrix `X` (without an intercept) that we computed in the previous section on best subset regression."
   ]
  },
  {
   "cell_type": "markdown",
   "id": "303863fc",
   "metadata": {},
   "source": [
    "## Ridge Regression\n",
    "\n",
    "We will use the function `skl.ElasticNet()` to fit both ridge and the lasso. To fit a **path** of ridge regressions models, we use `skl.ElasticNet.path()`, which can fit both ridge and lasso, as well as a hybrid mixture; ridge regression corresponds to `l1_ratio=0`. It's good practice to standardize the columns of `X` in these applications, if the variables are measured in different units.\n",
    "\n",
    "Since `skl.ElasticNet()` does no normalization, we have to take care of that ourselves. Since we standardize first, in order to find coefficient estimates on the original scale, we must *unstandardize* the coefficient estimates. The parameter λ is called `alphas` in `sklearn`. In order to be consistent with the rest of this chapter, we use `lambdas` instead of `alphas` (no were not).\n",
    "\n",
    "**Note:** It's best practice to do standardization in-place. We don't want to save the standardized variables to a new variable for the sake of memory efficiency in the case of very large datasets."
   ]
  },
  {
   "cell_type": "code",
   "execution_count": null,
   "id": "d46cdcc2",
   "metadata": {},
   "outputs": [
    {
     "name": "stderr",
     "output_type": "stream",
     "text": [
      "/Users/christiancamp/Desktop/Learning Machine Learning/ml-learning-linear-regression-part-2/lin-reg-env/lib/python3.13/site-packages/sklearn/linear_model/_coordinate_descent.py:681: UserWarning: Coordinate descent without L1 regularization may lead to unexpected results and is discouraged. Set l1_ratio > 0 to add L1 regularization.\n",
      "  model = cd_fast.enet_coordinate_descent_gram(\n",
      "/Users/christiancamp/Desktop/Learning Machine Learning/ml-learning-linear-regression-part-2/lin-reg-env/lib/python3.13/site-packages/sklearn/linear_model/_coordinate_descent.py:681: ConvergenceWarning: Objective did not converge. You might want to increase the number of iterations, check the scale of the features or consider increasing regularisation. Duality gap: 6.443e+07, tolerance: 1.289e+04\n",
      "  model = cd_fast.enet_coordinate_descent_gram(\n",
      "/Users/christiancamp/Desktop/Learning Machine Learning/ml-learning-linear-regression-part-2/lin-reg-env/lib/python3.13/site-packages/sklearn/linear_model/_coordinate_descent.py:681: UserWarning: Coordinate descent without L1 regularization may lead to unexpected results and is discouraged. Set l1_ratio > 0 to add L1 regularization.\n",
      "  model = cd_fast.enet_coordinate_descent_gram(\n",
      "/Users/christiancamp/Desktop/Learning Machine Learning/ml-learning-linear-regression-part-2/lin-reg-env/lib/python3.13/site-packages/sklearn/linear_model/_coordinate_descent.py:681: ConvergenceWarning: Objective did not converge. You might want to increase the number of iterations, check the scale of the features or consider increasing regularisation. Duality gap: 6.443e+07, tolerance: 1.289e+04\n",
      "  model = cd_fast.enet_coordinate_descent_gram(\n",
      "/Users/christiancamp/Desktop/Learning Machine Learning/ml-learning-linear-regression-part-2/lin-reg-env/lib/python3.13/site-packages/sklearn/linear_model/_coordinate_descent.py:681: UserWarning: Coordinate descent without L1 regularization may lead to unexpected results and is discouraged. Set l1_ratio > 0 to add L1 regularization.\n",
      "  model = cd_fast.enet_coordinate_descent_gram(\n",
      "/Users/christiancamp/Desktop/Learning Machine Learning/ml-learning-linear-regression-part-2/lin-reg-env/lib/python3.13/site-packages/sklearn/linear_model/_coordinate_descent.py:681: ConvergenceWarning: Objective did not converge. You might want to increase the number of iterations, check the scale of the features or consider increasing regularisation. Duality gap: 6.443e+07, tolerance: 1.289e+04\n",
      "  model = cd_fast.enet_coordinate_descent_gram(\n",
      "/Users/christiancamp/Desktop/Learning Machine Learning/ml-learning-linear-regression-part-2/lin-reg-env/lib/python3.13/site-packages/sklearn/linear_model/_coordinate_descent.py:681: UserWarning: Coordinate descent without L1 regularization may lead to unexpected results and is discouraged. Set l1_ratio > 0 to add L1 regularization.\n",
      "  model = cd_fast.enet_coordinate_descent_gram(\n",
      "/Users/christiancamp/Desktop/Learning Machine Learning/ml-learning-linear-regression-part-2/lin-reg-env/lib/python3.13/site-packages/sklearn/linear_model/_coordinate_descent.py:681: ConvergenceWarning: Objective did not converge. You might want to increase the number of iterations, check the scale of the features or consider increasing regularisation. Duality gap: 6.443e+07, tolerance: 1.289e+04\n",
      "  model = cd_fast.enet_coordinate_descent_gram(\n",
      "/Users/christiancamp/Desktop/Learning Machine Learning/ml-learning-linear-regression-part-2/lin-reg-env/lib/python3.13/site-packages/sklearn/linear_model/_coordinate_descent.py:681: UserWarning: Coordinate descent without L1 regularization may lead to unexpected results and is discouraged. Set l1_ratio > 0 to add L1 regularization.\n",
      "  model = cd_fast.enet_coordinate_descent_gram(\n",
      "/Users/christiancamp/Desktop/Learning Machine Learning/ml-learning-linear-regression-part-2/lin-reg-env/lib/python3.13/site-packages/sklearn/linear_model/_coordinate_descent.py:681: ConvergenceWarning: Objective did not converge. You might want to increase the number of iterations, check the scale of the features or consider increasing regularisation. Duality gap: 6.443e+07, tolerance: 1.289e+04\n",
      "  model = cd_fast.enet_coordinate_descent_gram(\n",
      "/Users/christiancamp/Desktop/Learning Machine Learning/ml-learning-linear-regression-part-2/lin-reg-env/lib/python3.13/site-packages/sklearn/linear_model/_coordinate_descent.py:681: UserWarning: Coordinate descent without L1 regularization may lead to unexpected results and is discouraged. Set l1_ratio > 0 to add L1 regularization.\n",
      "  model = cd_fast.enet_coordinate_descent_gram(\n",
      "/Users/christiancamp/Desktop/Learning Machine Learning/ml-learning-linear-regression-part-2/lin-reg-env/lib/python3.13/site-packages/sklearn/linear_model/_coordinate_descent.py:681: ConvergenceWarning: Objective did not converge. You might want to increase the number of iterations, check the scale of the features or consider increasing regularisation. Duality gap: 6.443e+07, tolerance: 1.289e+04\n",
      "  model = cd_fast.enet_coordinate_descent_gram(\n",
      "/Users/christiancamp/Desktop/Learning Machine Learning/ml-learning-linear-regression-part-2/lin-reg-env/lib/python3.13/site-packages/sklearn/linear_model/_coordinate_descent.py:681: UserWarning: Coordinate descent without L1 regularization may lead to unexpected results and is discouraged. Set l1_ratio > 0 to add L1 regularization.\n",
      "  model = cd_fast.enet_coordinate_descent_gram(\n",
      "/Users/christiancamp/Desktop/Learning Machine Learning/ml-learning-linear-regression-part-2/lin-reg-env/lib/python3.13/site-packages/sklearn/linear_model/_coordinate_descent.py:681: ConvergenceWarning: Objective did not converge. You might want to increase the number of iterations, check the scale of the features or consider increasing regularisation. Duality gap: 6.443e+07, tolerance: 1.289e+04\n",
      "  model = cd_fast.enet_coordinate_descent_gram(\n",
      "/Users/christiancamp/Desktop/Learning Machine Learning/ml-learning-linear-regression-part-2/lin-reg-env/lib/python3.13/site-packages/sklearn/linear_model/_coordinate_descent.py:681: UserWarning: Coordinate descent without L1 regularization may lead to unexpected results and is discouraged. Set l1_ratio > 0 to add L1 regularization.\n",
      "  model = cd_fast.enet_coordinate_descent_gram(\n",
      "/Users/christiancamp/Desktop/Learning Machine Learning/ml-learning-linear-regression-part-2/lin-reg-env/lib/python3.13/site-packages/sklearn/linear_model/_coordinate_descent.py:681: ConvergenceWarning: Objective did not converge. You might want to increase the number of iterations, check the scale of the features or consider increasing regularisation. Duality gap: 6.443e+07, tolerance: 1.289e+04\n",
      "  model = cd_fast.enet_coordinate_descent_gram(\n",
      "/Users/christiancamp/Desktop/Learning Machine Learning/ml-learning-linear-regression-part-2/lin-reg-env/lib/python3.13/site-packages/sklearn/linear_model/_coordinate_descent.py:681: UserWarning: Coordinate descent without L1 regularization may lead to unexpected results and is discouraged. Set l1_ratio > 0 to add L1 regularization.\n",
      "  model = cd_fast.enet_coordinate_descent_gram(\n",
      "/Users/christiancamp/Desktop/Learning Machine Learning/ml-learning-linear-regression-part-2/lin-reg-env/lib/python3.13/site-packages/sklearn/linear_model/_coordinate_descent.py:681: ConvergenceWarning: Objective did not converge. You might want to increase the number of iterations, check the scale of the features or consider increasing regularisation. Duality gap: 6.443e+07, tolerance: 1.289e+04\n",
      "  model = cd_fast.enet_coordinate_descent_gram(\n",
      "/Users/christiancamp/Desktop/Learning Machine Learning/ml-learning-linear-regression-part-2/lin-reg-env/lib/python3.13/site-packages/sklearn/linear_model/_coordinate_descent.py:681: UserWarning: Coordinate descent without L1 regularization may lead to unexpected results and is discouraged. Set l1_ratio > 0 to add L1 regularization.\n",
      "  model = cd_fast.enet_coordinate_descent_gram(\n",
      "/Users/christiancamp/Desktop/Learning Machine Learning/ml-learning-linear-regression-part-2/lin-reg-env/lib/python3.13/site-packages/sklearn/linear_model/_coordinate_descent.py:681: ConvergenceWarning: Objective did not converge. You might want to increase the number of iterations, check the scale of the features or consider increasing regularisation. Duality gap: 6.443e+07, tolerance: 1.289e+04\n",
      "  model = cd_fast.enet_coordinate_descent_gram(\n",
      "/Users/christiancamp/Desktop/Learning Machine Learning/ml-learning-linear-regression-part-2/lin-reg-env/lib/python3.13/site-packages/sklearn/linear_model/_coordinate_descent.py:681: UserWarning: Coordinate descent without L1 regularization may lead to unexpected results and is discouraged. Set l1_ratio > 0 to add L1 regularization.\n",
      "  model = cd_fast.enet_coordinate_descent_gram(\n",
      "/Users/christiancamp/Desktop/Learning Machine Learning/ml-learning-linear-regression-part-2/lin-reg-env/lib/python3.13/site-packages/sklearn/linear_model/_coordinate_descent.py:681: ConvergenceWarning: Objective did not converge. You might want to increase the number of iterations, check the scale of the features or consider increasing regularisation. Duality gap: 6.442e+07, tolerance: 1.289e+04\n",
      "  model = cd_fast.enet_coordinate_descent_gram(\n",
      "/Users/christiancamp/Desktop/Learning Machine Learning/ml-learning-linear-regression-part-2/lin-reg-env/lib/python3.13/site-packages/sklearn/linear_model/_coordinate_descent.py:681: UserWarning: Coordinate descent without L1 regularization may lead to unexpected results and is discouraged. Set l1_ratio > 0 to add L1 regularization.\n",
      "  model = cd_fast.enet_coordinate_descent_gram(\n",
      "/Users/christiancamp/Desktop/Learning Machine Learning/ml-learning-linear-regression-part-2/lin-reg-env/lib/python3.13/site-packages/sklearn/linear_model/_coordinate_descent.py:681: ConvergenceWarning: Objective did not converge. You might want to increase the number of iterations, check the scale of the features or consider increasing regularisation. Duality gap: 6.442e+07, tolerance: 1.289e+04\n",
      "  model = cd_fast.enet_coordinate_descent_gram(\n",
      "/Users/christiancamp/Desktop/Learning Machine Learning/ml-learning-linear-regression-part-2/lin-reg-env/lib/python3.13/site-packages/sklearn/linear_model/_coordinate_descent.py:681: UserWarning: Coordinate descent without L1 regularization may lead to unexpected results and is discouraged. Set l1_ratio > 0 to add L1 regularization.\n",
      "  model = cd_fast.enet_coordinate_descent_gram(\n",
      "/Users/christiancamp/Desktop/Learning Machine Learning/ml-learning-linear-regression-part-2/lin-reg-env/lib/python3.13/site-packages/sklearn/linear_model/_coordinate_descent.py:681: ConvergenceWarning: Objective did not converge. You might want to increase the number of iterations, check the scale of the features or consider increasing regularisation. Duality gap: 6.442e+07, tolerance: 1.289e+04\n",
      "  model = cd_fast.enet_coordinate_descent_gram(\n",
      "/Users/christiancamp/Desktop/Learning Machine Learning/ml-learning-linear-regression-part-2/lin-reg-env/lib/python3.13/site-packages/sklearn/linear_model/_coordinate_descent.py:681: UserWarning: Coordinate descent without L1 regularization may lead to unexpected results and is discouraged. Set l1_ratio > 0 to add L1 regularization.\n",
      "  model = cd_fast.enet_coordinate_descent_gram(\n",
      "/Users/christiancamp/Desktop/Learning Machine Learning/ml-learning-linear-regression-part-2/lin-reg-env/lib/python3.13/site-packages/sklearn/linear_model/_coordinate_descent.py:681: ConvergenceWarning: Objective did not converge. You might want to increase the number of iterations, check the scale of the features or consider increasing regularisation. Duality gap: 6.442e+07, tolerance: 1.289e+04\n",
      "  model = cd_fast.enet_coordinate_descent_gram(\n",
      "/Users/christiancamp/Desktop/Learning Machine Learning/ml-learning-linear-regression-part-2/lin-reg-env/lib/python3.13/site-packages/sklearn/linear_model/_coordinate_descent.py:681: UserWarning: Coordinate descent without L1 regularization may lead to unexpected results and is discouraged. Set l1_ratio > 0 to add L1 regularization.\n",
      "  model = cd_fast.enet_coordinate_descent_gram(\n",
      "/Users/christiancamp/Desktop/Learning Machine Learning/ml-learning-linear-regression-part-2/lin-reg-env/lib/python3.13/site-packages/sklearn/linear_model/_coordinate_descent.py:681: ConvergenceWarning: Objective did not converge. You might want to increase the number of iterations, check the scale of the features or consider increasing regularisation. Duality gap: 6.442e+07, tolerance: 1.289e+04\n",
      "  model = cd_fast.enet_coordinate_descent_gram(\n",
      "/Users/christiancamp/Desktop/Learning Machine Learning/ml-learning-linear-regression-part-2/lin-reg-env/lib/python3.13/site-packages/sklearn/linear_model/_coordinate_descent.py:681: UserWarning: Coordinate descent without L1 regularization may lead to unexpected results and is discouraged. Set l1_ratio > 0 to add L1 regularization.\n",
      "  model = cd_fast.enet_coordinate_descent_gram(\n",
      "/Users/christiancamp/Desktop/Learning Machine Learning/ml-learning-linear-regression-part-2/lin-reg-env/lib/python3.13/site-packages/sklearn/linear_model/_coordinate_descent.py:681: ConvergenceWarning: Objective did not converge. You might want to increase the number of iterations, check the scale of the features or consider increasing regularisation. Duality gap: 6.442e+07, tolerance: 1.289e+04\n",
      "  model = cd_fast.enet_coordinate_descent_gram(\n",
      "/Users/christiancamp/Desktop/Learning Machine Learning/ml-learning-linear-regression-part-2/lin-reg-env/lib/python3.13/site-packages/sklearn/linear_model/_coordinate_descent.py:681: UserWarning: Coordinate descent without L1 regularization may lead to unexpected results and is discouraged. Set l1_ratio > 0 to add L1 regularization.\n",
      "  model = cd_fast.enet_coordinate_descent_gram(\n",
      "/Users/christiancamp/Desktop/Learning Machine Learning/ml-learning-linear-regression-part-2/lin-reg-env/lib/python3.13/site-packages/sklearn/linear_model/_coordinate_descent.py:681: ConvergenceWarning: Objective did not converge. You might want to increase the number of iterations, check the scale of the features or consider increasing regularisation. Duality gap: 6.441e+07, tolerance: 1.289e+04\n",
      "  model = cd_fast.enet_coordinate_descent_gram(\n",
      "/Users/christiancamp/Desktop/Learning Machine Learning/ml-learning-linear-regression-part-2/lin-reg-env/lib/python3.13/site-packages/sklearn/linear_model/_coordinate_descent.py:681: UserWarning: Coordinate descent without L1 regularization may lead to unexpected results and is discouraged. Set l1_ratio > 0 to add L1 regularization.\n",
      "  model = cd_fast.enet_coordinate_descent_gram(\n",
      "/Users/christiancamp/Desktop/Learning Machine Learning/ml-learning-linear-regression-part-2/lin-reg-env/lib/python3.13/site-packages/sklearn/linear_model/_coordinate_descent.py:681: ConvergenceWarning: Objective did not converge. You might want to increase the number of iterations, check the scale of the features or consider increasing regularisation. Duality gap: 6.441e+07, tolerance: 1.289e+04\n",
      "  model = cd_fast.enet_coordinate_descent_gram(\n",
      "/Users/christiancamp/Desktop/Learning Machine Learning/ml-learning-linear-regression-part-2/lin-reg-env/lib/python3.13/site-packages/sklearn/linear_model/_coordinate_descent.py:681: UserWarning: Coordinate descent without L1 regularization may lead to unexpected results and is discouraged. Set l1_ratio > 0 to add L1 regularization.\n",
      "  model = cd_fast.enet_coordinate_descent_gram(\n",
      "/Users/christiancamp/Desktop/Learning Machine Learning/ml-learning-linear-regression-part-2/lin-reg-env/lib/python3.13/site-packages/sklearn/linear_model/_coordinate_descent.py:681: ConvergenceWarning: Objective did not converge. You might want to increase the number of iterations, check the scale of the features or consider increasing regularisation. Duality gap: 6.440e+07, tolerance: 1.289e+04\n",
      "  model = cd_fast.enet_coordinate_descent_gram(\n",
      "/Users/christiancamp/Desktop/Learning Machine Learning/ml-learning-linear-regression-part-2/lin-reg-env/lib/python3.13/site-packages/sklearn/linear_model/_coordinate_descent.py:681: UserWarning: Coordinate descent without L1 regularization may lead to unexpected results and is discouraged. Set l1_ratio > 0 to add L1 regularization.\n",
      "  model = cd_fast.enet_coordinate_descent_gram(\n",
      "/Users/christiancamp/Desktop/Learning Machine Learning/ml-learning-linear-regression-part-2/lin-reg-env/lib/python3.13/site-packages/sklearn/linear_model/_coordinate_descent.py:681: ConvergenceWarning: Objective did not converge. You might want to increase the number of iterations, check the scale of the features or consider increasing regularisation. Duality gap: 6.440e+07, tolerance: 1.289e+04\n",
      "  model = cd_fast.enet_coordinate_descent_gram(\n",
      "/Users/christiancamp/Desktop/Learning Machine Learning/ml-learning-linear-regression-part-2/lin-reg-env/lib/python3.13/site-packages/sklearn/linear_model/_coordinate_descent.py:681: UserWarning: Coordinate descent without L1 regularization may lead to unexpected results and is discouraged. Set l1_ratio > 0 to add L1 regularization.\n",
      "  model = cd_fast.enet_coordinate_descent_gram(\n",
      "/Users/christiancamp/Desktop/Learning Machine Learning/ml-learning-linear-regression-part-2/lin-reg-env/lib/python3.13/site-packages/sklearn/linear_model/_coordinate_descent.py:681: ConvergenceWarning: Objective did not converge. You might want to increase the number of iterations, check the scale of the features or consider increasing regularisation. Duality gap: 6.439e+07, tolerance: 1.289e+04\n",
      "  model = cd_fast.enet_coordinate_descent_gram(\n",
      "/Users/christiancamp/Desktop/Learning Machine Learning/ml-learning-linear-regression-part-2/lin-reg-env/lib/python3.13/site-packages/sklearn/linear_model/_coordinate_descent.py:681: UserWarning: Coordinate descent without L1 regularization may lead to unexpected results and is discouraged. Set l1_ratio > 0 to add L1 regularization.\n",
      "  model = cd_fast.enet_coordinate_descent_gram(\n",
      "/Users/christiancamp/Desktop/Learning Machine Learning/ml-learning-linear-regression-part-2/lin-reg-env/lib/python3.13/site-packages/sklearn/linear_model/_coordinate_descent.py:681: ConvergenceWarning: Objective did not converge. You might want to increase the number of iterations, check the scale of the features or consider increasing regularisation. Duality gap: 6.438e+07, tolerance: 1.289e+04\n",
      "  model = cd_fast.enet_coordinate_descent_gram(\n",
      "/Users/christiancamp/Desktop/Learning Machine Learning/ml-learning-linear-regression-part-2/lin-reg-env/lib/python3.13/site-packages/sklearn/linear_model/_coordinate_descent.py:681: UserWarning: Coordinate descent without L1 regularization may lead to unexpected results and is discouraged. Set l1_ratio > 0 to add L1 regularization.\n",
      "  model = cd_fast.enet_coordinate_descent_gram(\n",
      "/Users/christiancamp/Desktop/Learning Machine Learning/ml-learning-linear-regression-part-2/lin-reg-env/lib/python3.13/site-packages/sklearn/linear_model/_coordinate_descent.py:681: ConvergenceWarning: Objective did not converge. You might want to increase the number of iterations, check the scale of the features or consider increasing regularisation. Duality gap: 6.437e+07, tolerance: 1.289e+04\n",
      "  model = cd_fast.enet_coordinate_descent_gram(\n",
      "/Users/christiancamp/Desktop/Learning Machine Learning/ml-learning-linear-regression-part-2/lin-reg-env/lib/python3.13/site-packages/sklearn/linear_model/_coordinate_descent.py:681: UserWarning: Coordinate descent without L1 regularization may lead to unexpected results and is discouraged. Set l1_ratio > 0 to add L1 regularization.\n",
      "  model = cd_fast.enet_coordinate_descent_gram(\n",
      "/Users/christiancamp/Desktop/Learning Machine Learning/ml-learning-linear-regression-part-2/lin-reg-env/lib/python3.13/site-packages/sklearn/linear_model/_coordinate_descent.py:681: ConvergenceWarning: Objective did not converge. You might want to increase the number of iterations, check the scale of the features or consider increasing regularisation. Duality gap: 6.435e+07, tolerance: 1.289e+04\n",
      "  model = cd_fast.enet_coordinate_descent_gram(\n",
      "/Users/christiancamp/Desktop/Learning Machine Learning/ml-learning-linear-regression-part-2/lin-reg-env/lib/python3.13/site-packages/sklearn/linear_model/_coordinate_descent.py:681: UserWarning: Coordinate descent without L1 regularization may lead to unexpected results and is discouraged. Set l1_ratio > 0 to add L1 regularization.\n",
      "  model = cd_fast.enet_coordinate_descent_gram(\n",
      "/Users/christiancamp/Desktop/Learning Machine Learning/ml-learning-linear-regression-part-2/lin-reg-env/lib/python3.13/site-packages/sklearn/linear_model/_coordinate_descent.py:681: ConvergenceWarning: Objective did not converge. You might want to increase the number of iterations, check the scale of the features or consider increasing regularisation. Duality gap: 6.433e+07, tolerance: 1.289e+04\n",
      "  model = cd_fast.enet_coordinate_descent_gram(\n",
      "/Users/christiancamp/Desktop/Learning Machine Learning/ml-learning-linear-regression-part-2/lin-reg-env/lib/python3.13/site-packages/sklearn/linear_model/_coordinate_descent.py:681: UserWarning: Coordinate descent without L1 regularization may lead to unexpected results and is discouraged. Set l1_ratio > 0 to add L1 regularization.\n",
      "  model = cd_fast.enet_coordinate_descent_gram(\n",
      "/Users/christiancamp/Desktop/Learning Machine Learning/ml-learning-linear-regression-part-2/lin-reg-env/lib/python3.13/site-packages/sklearn/linear_model/_coordinate_descent.py:681: ConvergenceWarning: Objective did not converge. You might want to increase the number of iterations, check the scale of the features or consider increasing regularisation. Duality gap: 6.431e+07, tolerance: 1.289e+04\n",
      "  model = cd_fast.enet_coordinate_descent_gram(\n",
      "/Users/christiancamp/Desktop/Learning Machine Learning/ml-learning-linear-regression-part-2/lin-reg-env/lib/python3.13/site-packages/sklearn/linear_model/_coordinate_descent.py:681: UserWarning: Coordinate descent without L1 regularization may lead to unexpected results and is discouraged. Set l1_ratio > 0 to add L1 regularization.\n",
      "  model = cd_fast.enet_coordinate_descent_gram(\n",
      "/Users/christiancamp/Desktop/Learning Machine Learning/ml-learning-linear-regression-part-2/lin-reg-env/lib/python3.13/site-packages/sklearn/linear_model/_coordinate_descent.py:681: ConvergenceWarning: Objective did not converge. You might want to increase the number of iterations, check the scale of the features or consider increasing regularisation. Duality gap: 6.428e+07, tolerance: 1.289e+04\n",
      "  model = cd_fast.enet_coordinate_descent_gram(\n",
      "/Users/christiancamp/Desktop/Learning Machine Learning/ml-learning-linear-regression-part-2/lin-reg-env/lib/python3.13/site-packages/sklearn/linear_model/_coordinate_descent.py:681: UserWarning: Coordinate descent without L1 regularization may lead to unexpected results and is discouraged. Set l1_ratio > 0 to add L1 regularization.\n",
      "  model = cd_fast.enet_coordinate_descent_gram(\n",
      "/Users/christiancamp/Desktop/Learning Machine Learning/ml-learning-linear-regression-part-2/lin-reg-env/lib/python3.13/site-packages/sklearn/linear_model/_coordinate_descent.py:681: ConvergenceWarning: Objective did not converge. You might want to increase the number of iterations, check the scale of the features or consider increasing regularisation. Duality gap: 6.424e+07, tolerance: 1.289e+04\n",
      "  model = cd_fast.enet_coordinate_descent_gram(\n",
      "/Users/christiancamp/Desktop/Learning Machine Learning/ml-learning-linear-regression-part-2/lin-reg-env/lib/python3.13/site-packages/sklearn/linear_model/_coordinate_descent.py:681: UserWarning: Coordinate descent without L1 regularization may lead to unexpected results and is discouraged. Set l1_ratio > 0 to add L1 regularization.\n",
      "  model = cd_fast.enet_coordinate_descent_gram(\n",
      "/Users/christiancamp/Desktop/Learning Machine Learning/ml-learning-linear-regression-part-2/lin-reg-env/lib/python3.13/site-packages/sklearn/linear_model/_coordinate_descent.py:681: ConvergenceWarning: Objective did not converge. You might want to increase the number of iterations, check the scale of the features or consider increasing regularisation. Duality gap: 6.419e+07, tolerance: 1.289e+04\n",
      "  model = cd_fast.enet_coordinate_descent_gram(\n",
      "/Users/christiancamp/Desktop/Learning Machine Learning/ml-learning-linear-regression-part-2/lin-reg-env/lib/python3.13/site-packages/sklearn/linear_model/_coordinate_descent.py:681: UserWarning: Coordinate descent without L1 regularization may lead to unexpected results and is discouraged. Set l1_ratio > 0 to add L1 regularization.\n",
      "  model = cd_fast.enet_coordinate_descent_gram(\n",
      "/Users/christiancamp/Desktop/Learning Machine Learning/ml-learning-linear-regression-part-2/lin-reg-env/lib/python3.13/site-packages/sklearn/linear_model/_coordinate_descent.py:681: ConvergenceWarning: Objective did not converge. You might want to increase the number of iterations, check the scale of the features or consider increasing regularisation. Duality gap: 6.412e+07, tolerance: 1.289e+04\n",
      "  model = cd_fast.enet_coordinate_descent_gram(\n",
      "/Users/christiancamp/Desktop/Learning Machine Learning/ml-learning-linear-regression-part-2/lin-reg-env/lib/python3.13/site-packages/sklearn/linear_model/_coordinate_descent.py:681: UserWarning: Coordinate descent without L1 regularization may lead to unexpected results and is discouraged. Set l1_ratio > 0 to add L1 regularization.\n",
      "  model = cd_fast.enet_coordinate_descent_gram(\n",
      "/Users/christiancamp/Desktop/Learning Machine Learning/ml-learning-linear-regression-part-2/lin-reg-env/lib/python3.13/site-packages/sklearn/linear_model/_coordinate_descent.py:681: ConvergenceWarning: Objective did not converge. You might want to increase the number of iterations, check the scale of the features or consider increasing regularisation. Duality gap: 6.405e+07, tolerance: 1.289e+04\n",
      "  model = cd_fast.enet_coordinate_descent_gram(\n",
      "/Users/christiancamp/Desktop/Learning Machine Learning/ml-learning-linear-regression-part-2/lin-reg-env/lib/python3.13/site-packages/sklearn/linear_model/_coordinate_descent.py:681: UserWarning: Coordinate descent without L1 regularization may lead to unexpected results and is discouraged. Set l1_ratio > 0 to add L1 regularization.\n",
      "  model = cd_fast.enet_coordinate_descent_gram(\n",
      "/Users/christiancamp/Desktop/Learning Machine Learning/ml-learning-linear-regression-part-2/lin-reg-env/lib/python3.13/site-packages/sklearn/linear_model/_coordinate_descent.py:681: ConvergenceWarning: Objective did not converge. You might want to increase the number of iterations, check the scale of the features or consider increasing regularisation. Duality gap: 6.395e+07, tolerance: 1.289e+04\n",
      "  model = cd_fast.enet_coordinate_descent_gram(\n",
      "/Users/christiancamp/Desktop/Learning Machine Learning/ml-learning-linear-regression-part-2/lin-reg-env/lib/python3.13/site-packages/sklearn/linear_model/_coordinate_descent.py:681: UserWarning: Coordinate descent without L1 regularization may lead to unexpected results and is discouraged. Set l1_ratio > 0 to add L1 regularization.\n",
      "  model = cd_fast.enet_coordinate_descent_gram(\n",
      "/Users/christiancamp/Desktop/Learning Machine Learning/ml-learning-linear-regression-part-2/lin-reg-env/lib/python3.13/site-packages/sklearn/linear_model/_coordinate_descent.py:681: ConvergenceWarning: Objective did not converge. You might want to increase the number of iterations, check the scale of the features or consider increasing regularisation. Duality gap: 6.383e+07, tolerance: 1.289e+04\n",
      "  model = cd_fast.enet_coordinate_descent_gram(\n",
      "/Users/christiancamp/Desktop/Learning Machine Learning/ml-learning-linear-regression-part-2/lin-reg-env/lib/python3.13/site-packages/sklearn/linear_model/_coordinate_descent.py:681: UserWarning: Coordinate descent without L1 regularization may lead to unexpected results and is discouraged. Set l1_ratio > 0 to add L1 regularization.\n",
      "  model = cd_fast.enet_coordinate_descent_gram(\n",
      "/Users/christiancamp/Desktop/Learning Machine Learning/ml-learning-linear-regression-part-2/lin-reg-env/lib/python3.13/site-packages/sklearn/linear_model/_coordinate_descent.py:681: ConvergenceWarning: Objective did not converge. You might want to increase the number of iterations, check the scale of the features or consider increasing regularisation. Duality gap: 6.369e+07, tolerance: 1.289e+04\n",
      "  model = cd_fast.enet_coordinate_descent_gram(\n",
      "/Users/christiancamp/Desktop/Learning Machine Learning/ml-learning-linear-regression-part-2/lin-reg-env/lib/python3.13/site-packages/sklearn/linear_model/_coordinate_descent.py:681: UserWarning: Coordinate descent without L1 regularization may lead to unexpected results and is discouraged. Set l1_ratio > 0 to add L1 regularization.\n",
      "  model = cd_fast.enet_coordinate_descent_gram(\n",
      "/Users/christiancamp/Desktop/Learning Machine Learning/ml-learning-linear-regression-part-2/lin-reg-env/lib/python3.13/site-packages/sklearn/linear_model/_coordinate_descent.py:681: ConvergenceWarning: Objective did not converge. You might want to increase the number of iterations, check the scale of the features or consider increasing regularisation. Duality gap: 6.351e+07, tolerance: 1.289e+04\n",
      "  model = cd_fast.enet_coordinate_descent_gram(\n",
      "/Users/christiancamp/Desktop/Learning Machine Learning/ml-learning-linear-regression-part-2/lin-reg-env/lib/python3.13/site-packages/sklearn/linear_model/_coordinate_descent.py:681: UserWarning: Coordinate descent without L1 regularization may lead to unexpected results and is discouraged. Set l1_ratio > 0 to add L1 regularization.\n",
      "  model = cd_fast.enet_coordinate_descent_gram(\n",
      "/Users/christiancamp/Desktop/Learning Machine Learning/ml-learning-linear-regression-part-2/lin-reg-env/lib/python3.13/site-packages/sklearn/linear_model/_coordinate_descent.py:681: ConvergenceWarning: Objective did not converge. You might want to increase the number of iterations, check the scale of the features or consider increasing regularisation. Duality gap: 6.329e+07, tolerance: 1.289e+04\n",
      "  model = cd_fast.enet_coordinate_descent_gram(\n",
      "/Users/christiancamp/Desktop/Learning Machine Learning/ml-learning-linear-regression-part-2/lin-reg-env/lib/python3.13/site-packages/sklearn/linear_model/_coordinate_descent.py:681: UserWarning: Coordinate descent without L1 regularization may lead to unexpected results and is discouraged. Set l1_ratio > 0 to add L1 regularization.\n",
      "  model = cd_fast.enet_coordinate_descent_gram(\n",
      "/Users/christiancamp/Desktop/Learning Machine Learning/ml-learning-linear-regression-part-2/lin-reg-env/lib/python3.13/site-packages/sklearn/linear_model/_coordinate_descent.py:681: ConvergenceWarning: Objective did not converge. You might want to increase the number of iterations, check the scale of the features or consider increasing regularisation. Duality gap: 6.303e+07, tolerance: 1.289e+04\n",
      "  model = cd_fast.enet_coordinate_descent_gram(\n",
      "/Users/christiancamp/Desktop/Learning Machine Learning/ml-learning-linear-regression-part-2/lin-reg-env/lib/python3.13/site-packages/sklearn/linear_model/_coordinate_descent.py:681: UserWarning: Coordinate descent without L1 regularization may lead to unexpected results and is discouraged. Set l1_ratio > 0 to add L1 regularization.\n",
      "  model = cd_fast.enet_coordinate_descent_gram(\n",
      "/Users/christiancamp/Desktop/Learning Machine Learning/ml-learning-linear-regression-part-2/lin-reg-env/lib/python3.13/site-packages/sklearn/linear_model/_coordinate_descent.py:681: ConvergenceWarning: Objective did not converge. You might want to increase the number of iterations, check the scale of the features or consider increasing regularisation. Duality gap: 6.272e+07, tolerance: 1.289e+04\n",
      "  model = cd_fast.enet_coordinate_descent_gram(\n",
      "/Users/christiancamp/Desktop/Learning Machine Learning/ml-learning-linear-regression-part-2/lin-reg-env/lib/python3.13/site-packages/sklearn/linear_model/_coordinate_descent.py:681: UserWarning: Coordinate descent without L1 regularization may lead to unexpected results and is discouraged. Set l1_ratio > 0 to add L1 regularization.\n",
      "  model = cd_fast.enet_coordinate_descent_gram(\n",
      "/Users/christiancamp/Desktop/Learning Machine Learning/ml-learning-linear-regression-part-2/lin-reg-env/lib/python3.13/site-packages/sklearn/linear_model/_coordinate_descent.py:681: ConvergenceWarning: Objective did not converge. You might want to increase the number of iterations, check the scale of the features or consider increasing regularisation. Duality gap: 6.235e+07, tolerance: 1.289e+04\n",
      "  model = cd_fast.enet_coordinate_descent_gram(\n",
      "/Users/christiancamp/Desktop/Learning Machine Learning/ml-learning-linear-regression-part-2/lin-reg-env/lib/python3.13/site-packages/sklearn/linear_model/_coordinate_descent.py:681: UserWarning: Coordinate descent without L1 regularization may lead to unexpected results and is discouraged. Set l1_ratio > 0 to add L1 regularization.\n",
      "  model = cd_fast.enet_coordinate_descent_gram(\n",
      "/Users/christiancamp/Desktop/Learning Machine Learning/ml-learning-linear-regression-part-2/lin-reg-env/lib/python3.13/site-packages/sklearn/linear_model/_coordinate_descent.py:681: ConvergenceWarning: Objective did not converge. You might want to increase the number of iterations, check the scale of the features or consider increasing regularisation. Duality gap: 6.193e+07, tolerance: 1.289e+04\n",
      "  model = cd_fast.enet_coordinate_descent_gram(\n",
      "/Users/christiancamp/Desktop/Learning Machine Learning/ml-learning-linear-regression-part-2/lin-reg-env/lib/python3.13/site-packages/sklearn/linear_model/_coordinate_descent.py:681: UserWarning: Coordinate descent without L1 regularization may lead to unexpected results and is discouraged. Set l1_ratio > 0 to add L1 regularization.\n",
      "  model = cd_fast.enet_coordinate_descent_gram(\n",
      "/Users/christiancamp/Desktop/Learning Machine Learning/ml-learning-linear-regression-part-2/lin-reg-env/lib/python3.13/site-packages/sklearn/linear_model/_coordinate_descent.py:681: ConvergenceWarning: Objective did not converge. You might want to increase the number of iterations, check the scale of the features or consider increasing regularisation. Duality gap: 6.144e+07, tolerance: 1.289e+04\n",
      "  model = cd_fast.enet_coordinate_descent_gram(\n",
      "/Users/christiancamp/Desktop/Learning Machine Learning/ml-learning-linear-regression-part-2/lin-reg-env/lib/python3.13/site-packages/sklearn/linear_model/_coordinate_descent.py:681: UserWarning: Coordinate descent without L1 regularization may lead to unexpected results and is discouraged. Set l1_ratio > 0 to add L1 regularization.\n",
      "  model = cd_fast.enet_coordinate_descent_gram(\n",
      "/Users/christiancamp/Desktop/Learning Machine Learning/ml-learning-linear-regression-part-2/lin-reg-env/lib/python3.13/site-packages/sklearn/linear_model/_coordinate_descent.py:681: ConvergenceWarning: Objective did not converge. You might want to increase the number of iterations, check the scale of the features or consider increasing regularisation. Duality gap: 6.089e+07, tolerance: 1.289e+04\n",
      "  model = cd_fast.enet_coordinate_descent_gram(\n",
      "/Users/christiancamp/Desktop/Learning Machine Learning/ml-learning-linear-regression-part-2/lin-reg-env/lib/python3.13/site-packages/sklearn/linear_model/_coordinate_descent.py:681: UserWarning: Coordinate descent without L1 regularization may lead to unexpected results and is discouraged. Set l1_ratio > 0 to add L1 regularization.\n",
      "  model = cd_fast.enet_coordinate_descent_gram(\n",
      "/Users/christiancamp/Desktop/Learning Machine Learning/ml-learning-linear-regression-part-2/lin-reg-env/lib/python3.13/site-packages/sklearn/linear_model/_coordinate_descent.py:681: ConvergenceWarning: Objective did not converge. You might want to increase the number of iterations, check the scale of the features or consider increasing regularisation. Duality gap: 6.030e+07, tolerance: 1.289e+04\n",
      "  model = cd_fast.enet_coordinate_descent_gram(\n",
      "/Users/christiancamp/Desktop/Learning Machine Learning/ml-learning-linear-regression-part-2/lin-reg-env/lib/python3.13/site-packages/sklearn/linear_model/_coordinate_descent.py:681: UserWarning: Coordinate descent without L1 regularization may lead to unexpected results and is discouraged. Set l1_ratio > 0 to add L1 regularization.\n",
      "  model = cd_fast.enet_coordinate_descent_gram(\n",
      "/Users/christiancamp/Desktop/Learning Machine Learning/ml-learning-linear-regression-part-2/lin-reg-env/lib/python3.13/site-packages/sklearn/linear_model/_coordinate_descent.py:681: ConvergenceWarning: Objective did not converge. You might want to increase the number of iterations, check the scale of the features or consider increasing regularisation. Duality gap: 5.966e+07, tolerance: 1.289e+04\n",
      "  model = cd_fast.enet_coordinate_descent_gram(\n",
      "/Users/christiancamp/Desktop/Learning Machine Learning/ml-learning-linear-regression-part-2/lin-reg-env/lib/python3.13/site-packages/sklearn/linear_model/_coordinate_descent.py:681: UserWarning: Coordinate descent without L1 regularization may lead to unexpected results and is discouraged. Set l1_ratio > 0 to add L1 regularization.\n",
      "  model = cd_fast.enet_coordinate_descent_gram(\n",
      "/Users/christiancamp/Desktop/Learning Machine Learning/ml-learning-linear-regression-part-2/lin-reg-env/lib/python3.13/site-packages/sklearn/linear_model/_coordinate_descent.py:681: ConvergenceWarning: Objective did not converge. You might want to increase the number of iterations, check the scale of the features or consider increasing regularisation. Duality gap: 5.899e+07, tolerance: 1.289e+04\n",
      "  model = cd_fast.enet_coordinate_descent_gram(\n",
      "/Users/christiancamp/Desktop/Learning Machine Learning/ml-learning-linear-regression-part-2/lin-reg-env/lib/python3.13/site-packages/sklearn/linear_model/_coordinate_descent.py:681: UserWarning: Coordinate descent without L1 regularization may lead to unexpected results and is discouraged. Set l1_ratio > 0 to add L1 regularization.\n",
      "  model = cd_fast.enet_coordinate_descent_gram(\n",
      "/Users/christiancamp/Desktop/Learning Machine Learning/ml-learning-linear-regression-part-2/lin-reg-env/lib/python3.13/site-packages/sklearn/linear_model/_coordinate_descent.py:681: ConvergenceWarning: Objective did not converge. You might want to increase the number of iterations, check the scale of the features or consider increasing regularisation. Duality gap: 5.830e+07, tolerance: 1.289e+04\n",
      "  model = cd_fast.enet_coordinate_descent_gram(\n",
      "/Users/christiancamp/Desktop/Learning Machine Learning/ml-learning-linear-regression-part-2/lin-reg-env/lib/python3.13/site-packages/sklearn/linear_model/_coordinate_descent.py:681: UserWarning: Coordinate descent without L1 regularization may lead to unexpected results and is discouraged. Set l1_ratio > 0 to add L1 regularization.\n",
      "  model = cd_fast.enet_coordinate_descent_gram(\n",
      "/Users/christiancamp/Desktop/Learning Machine Learning/ml-learning-linear-regression-part-2/lin-reg-env/lib/python3.13/site-packages/sklearn/linear_model/_coordinate_descent.py:681: ConvergenceWarning: Objective did not converge. You might want to increase the number of iterations, check the scale of the features or consider increasing regularisation. Duality gap: 5.762e+07, tolerance: 1.289e+04\n",
      "  model = cd_fast.enet_coordinate_descent_gram(\n",
      "/Users/christiancamp/Desktop/Learning Machine Learning/ml-learning-linear-regression-part-2/lin-reg-env/lib/python3.13/site-packages/sklearn/linear_model/_coordinate_descent.py:681: UserWarning: Coordinate descent without L1 regularization may lead to unexpected results and is discouraged. Set l1_ratio > 0 to add L1 regularization.\n",
      "  model = cd_fast.enet_coordinate_descent_gram(\n",
      "/Users/christiancamp/Desktop/Learning Machine Learning/ml-learning-linear-regression-part-2/lin-reg-env/lib/python3.13/site-packages/sklearn/linear_model/_coordinate_descent.py:681: ConvergenceWarning: Objective did not converge. You might want to increase the number of iterations, check the scale of the features or consider increasing regularisation. Duality gap: 5.696e+07, tolerance: 1.289e+04\n",
      "  model = cd_fast.enet_coordinate_descent_gram(\n",
      "/Users/christiancamp/Desktop/Learning Machine Learning/ml-learning-linear-regression-part-2/lin-reg-env/lib/python3.13/site-packages/sklearn/linear_model/_coordinate_descent.py:681: UserWarning: Coordinate descent without L1 regularization may lead to unexpected results and is discouraged. Set l1_ratio > 0 to add L1 regularization.\n",
      "  model = cd_fast.enet_coordinate_descent_gram(\n",
      "/Users/christiancamp/Desktop/Learning Machine Learning/ml-learning-linear-regression-part-2/lin-reg-env/lib/python3.13/site-packages/sklearn/linear_model/_coordinate_descent.py:681: ConvergenceWarning: Objective did not converge. You might want to increase the number of iterations, check the scale of the features or consider increasing regularisation. Duality gap: 5.632e+07, tolerance: 1.289e+04\n",
      "  model = cd_fast.enet_coordinate_descent_gram(\n",
      "/Users/christiancamp/Desktop/Learning Machine Learning/ml-learning-linear-regression-part-2/lin-reg-env/lib/python3.13/site-packages/sklearn/linear_model/_coordinate_descent.py:681: UserWarning: Coordinate descent without L1 regularization may lead to unexpected results and is discouraged. Set l1_ratio > 0 to add L1 regularization.\n",
      "  model = cd_fast.enet_coordinate_descent_gram(\n",
      "/Users/christiancamp/Desktop/Learning Machine Learning/ml-learning-linear-regression-part-2/lin-reg-env/lib/python3.13/site-packages/sklearn/linear_model/_coordinate_descent.py:681: ConvergenceWarning: Objective did not converge. You might want to increase the number of iterations, check the scale of the features or consider increasing regularisation. Duality gap: 5.573e+07, tolerance: 1.289e+04\n",
      "  model = cd_fast.enet_coordinate_descent_gram(\n",
      "/Users/christiancamp/Desktop/Learning Machine Learning/ml-learning-linear-regression-part-2/lin-reg-env/lib/python3.13/site-packages/sklearn/linear_model/_coordinate_descent.py:681: UserWarning: Coordinate descent without L1 regularization may lead to unexpected results and is discouraged. Set l1_ratio > 0 to add L1 regularization.\n",
      "  model = cd_fast.enet_coordinate_descent_gram(\n",
      "/Users/christiancamp/Desktop/Learning Machine Learning/ml-learning-linear-regression-part-2/lin-reg-env/lib/python3.13/site-packages/sklearn/linear_model/_coordinate_descent.py:681: ConvergenceWarning: Objective did not converge. You might want to increase the number of iterations, check the scale of the features or consider increasing regularisation. Duality gap: 5.518e+07, tolerance: 1.289e+04\n",
      "  model = cd_fast.enet_coordinate_descent_gram(\n",
      "/Users/christiancamp/Desktop/Learning Machine Learning/ml-learning-linear-regression-part-2/lin-reg-env/lib/python3.13/site-packages/sklearn/linear_model/_coordinate_descent.py:681: UserWarning: Coordinate descent without L1 regularization may lead to unexpected results and is discouraged. Set l1_ratio > 0 to add L1 regularization.\n",
      "  model = cd_fast.enet_coordinate_descent_gram(\n",
      "/Users/christiancamp/Desktop/Learning Machine Learning/ml-learning-linear-regression-part-2/lin-reg-env/lib/python3.13/site-packages/sklearn/linear_model/_coordinate_descent.py:681: ConvergenceWarning: Objective did not converge. You might want to increase the number of iterations, check the scale of the features or consider increasing regularisation. Duality gap: 5.469e+07, tolerance: 1.289e+04\n",
      "  model = cd_fast.enet_coordinate_descent_gram(\n",
      "/Users/christiancamp/Desktop/Learning Machine Learning/ml-learning-linear-regression-part-2/lin-reg-env/lib/python3.13/site-packages/sklearn/linear_model/_coordinate_descent.py:681: UserWarning: Coordinate descent without L1 regularization may lead to unexpected results and is discouraged. Set l1_ratio > 0 to add L1 regularization.\n",
      "  model = cd_fast.enet_coordinate_descent_gram(\n",
      "/Users/christiancamp/Desktop/Learning Machine Learning/ml-learning-linear-regression-part-2/lin-reg-env/lib/python3.13/site-packages/sklearn/linear_model/_coordinate_descent.py:681: ConvergenceWarning: Objective did not converge. You might want to increase the number of iterations, check the scale of the features or consider increasing regularisation. Duality gap: 5.424e+07, tolerance: 1.289e+04\n",
      "  model = cd_fast.enet_coordinate_descent_gram(\n",
      "/Users/christiancamp/Desktop/Learning Machine Learning/ml-learning-linear-regression-part-2/lin-reg-env/lib/python3.13/site-packages/sklearn/linear_model/_coordinate_descent.py:681: UserWarning: Coordinate descent without L1 regularization may lead to unexpected results and is discouraged. Set l1_ratio > 0 to add L1 regularization.\n",
      "  model = cd_fast.enet_coordinate_descent_gram(\n",
      "/Users/christiancamp/Desktop/Learning Machine Learning/ml-learning-linear-regression-part-2/lin-reg-env/lib/python3.13/site-packages/sklearn/linear_model/_coordinate_descent.py:681: ConvergenceWarning: Objective did not converge. You might want to increase the number of iterations, check the scale of the features or consider increasing regularisation. Duality gap: 5.385e+07, tolerance: 1.289e+04\n",
      "  model = cd_fast.enet_coordinate_descent_gram(\n",
      "/Users/christiancamp/Desktop/Learning Machine Learning/ml-learning-linear-regression-part-2/lin-reg-env/lib/python3.13/site-packages/sklearn/linear_model/_coordinate_descent.py:681: UserWarning: Coordinate descent without L1 regularization may lead to unexpected results and is discouraged. Set l1_ratio > 0 to add L1 regularization.\n",
      "  model = cd_fast.enet_coordinate_descent_gram(\n",
      "/Users/christiancamp/Desktop/Learning Machine Learning/ml-learning-linear-regression-part-2/lin-reg-env/lib/python3.13/site-packages/sklearn/linear_model/_coordinate_descent.py:681: ConvergenceWarning: Objective did not converge. You might want to increase the number of iterations, check the scale of the features or consider increasing regularisation. Duality gap: 5.349e+07, tolerance: 1.289e+04\n",
      "  model = cd_fast.enet_coordinate_descent_gram(\n",
      "/Users/christiancamp/Desktop/Learning Machine Learning/ml-learning-linear-regression-part-2/lin-reg-env/lib/python3.13/site-packages/sklearn/linear_model/_coordinate_descent.py:681: UserWarning: Coordinate descent without L1 regularization may lead to unexpected results and is discouraged. Set l1_ratio > 0 to add L1 regularization.\n",
      "  model = cd_fast.enet_coordinate_descent_gram(\n",
      "/Users/christiancamp/Desktop/Learning Machine Learning/ml-learning-linear-regression-part-2/lin-reg-env/lib/python3.13/site-packages/sklearn/linear_model/_coordinate_descent.py:681: ConvergenceWarning: Objective did not converge. You might want to increase the number of iterations, check the scale of the features or consider increasing regularisation. Duality gap: 5.318e+07, tolerance: 1.289e+04\n",
      "  model = cd_fast.enet_coordinate_descent_gram(\n",
      "/Users/christiancamp/Desktop/Learning Machine Learning/ml-learning-linear-regression-part-2/lin-reg-env/lib/python3.13/site-packages/sklearn/linear_model/_coordinate_descent.py:681: UserWarning: Coordinate descent without L1 regularization may lead to unexpected results and is discouraged. Set l1_ratio > 0 to add L1 regularization.\n",
      "  model = cd_fast.enet_coordinate_descent_gram(\n",
      "/Users/christiancamp/Desktop/Learning Machine Learning/ml-learning-linear-regression-part-2/lin-reg-env/lib/python3.13/site-packages/sklearn/linear_model/_coordinate_descent.py:681: ConvergenceWarning: Objective did not converge. You might want to increase the number of iterations, check the scale of the features or consider increasing regularisation. Duality gap: 5.290e+07, tolerance: 1.289e+04\n",
      "  model = cd_fast.enet_coordinate_descent_gram(\n",
      "/Users/christiancamp/Desktop/Learning Machine Learning/ml-learning-linear-regression-part-2/lin-reg-env/lib/python3.13/site-packages/sklearn/linear_model/_coordinate_descent.py:681: UserWarning: Coordinate descent without L1 regularization may lead to unexpected results and is discouraged. Set l1_ratio > 0 to add L1 regularization.\n",
      "  model = cd_fast.enet_coordinate_descent_gram(\n",
      "/Users/christiancamp/Desktop/Learning Machine Learning/ml-learning-linear-regression-part-2/lin-reg-env/lib/python3.13/site-packages/sklearn/linear_model/_coordinate_descent.py:681: ConvergenceWarning: Objective did not converge. You might want to increase the number of iterations, check the scale of the features or consider increasing regularisation. Duality gap: 5.265e+07, tolerance: 1.289e+04\n",
      "  model = cd_fast.enet_coordinate_descent_gram(\n",
      "/Users/christiancamp/Desktop/Learning Machine Learning/ml-learning-linear-regression-part-2/lin-reg-env/lib/python3.13/site-packages/sklearn/linear_model/_coordinate_descent.py:681: UserWarning: Coordinate descent without L1 regularization may lead to unexpected results and is discouraged. Set l1_ratio > 0 to add L1 regularization.\n",
      "  model = cd_fast.enet_coordinate_descent_gram(\n",
      "/Users/christiancamp/Desktop/Learning Machine Learning/ml-learning-linear-regression-part-2/lin-reg-env/lib/python3.13/site-packages/sklearn/linear_model/_coordinate_descent.py:681: ConvergenceWarning: Objective did not converge. You might want to increase the number of iterations, check the scale of the features or consider increasing regularisation. Duality gap: 5.243e+07, tolerance: 1.289e+04\n",
      "  model = cd_fast.enet_coordinate_descent_gram(\n",
      "/Users/christiancamp/Desktop/Learning Machine Learning/ml-learning-linear-regression-part-2/lin-reg-env/lib/python3.13/site-packages/sklearn/linear_model/_coordinate_descent.py:681: UserWarning: Coordinate descent without L1 regularization may lead to unexpected results and is discouraged. Set l1_ratio > 0 to add L1 regularization.\n",
      "  model = cd_fast.enet_coordinate_descent_gram(\n",
      "/Users/christiancamp/Desktop/Learning Machine Learning/ml-learning-linear-regression-part-2/lin-reg-env/lib/python3.13/site-packages/sklearn/linear_model/_coordinate_descent.py:681: ConvergenceWarning: Objective did not converge. You might want to increase the number of iterations, check the scale of the features or consider increasing regularisation. Duality gap: 5.223e+07, tolerance: 1.289e+04\n",
      "  model = cd_fast.enet_coordinate_descent_gram(\n",
      "/Users/christiancamp/Desktop/Learning Machine Learning/ml-learning-linear-regression-part-2/lin-reg-env/lib/python3.13/site-packages/sklearn/linear_model/_coordinate_descent.py:681: UserWarning: Coordinate descent without L1 regularization may lead to unexpected results and is discouraged. Set l1_ratio > 0 to add L1 regularization.\n",
      "  model = cd_fast.enet_coordinate_descent_gram(\n",
      "/Users/christiancamp/Desktop/Learning Machine Learning/ml-learning-linear-regression-part-2/lin-reg-env/lib/python3.13/site-packages/sklearn/linear_model/_coordinate_descent.py:681: ConvergenceWarning: Objective did not converge. You might want to increase the number of iterations, check the scale of the features or consider increasing regularisation. Duality gap: 5.205e+07, tolerance: 1.289e+04\n",
      "  model = cd_fast.enet_coordinate_descent_gram(\n",
      "/Users/christiancamp/Desktop/Learning Machine Learning/ml-learning-linear-regression-part-2/lin-reg-env/lib/python3.13/site-packages/sklearn/linear_model/_coordinate_descent.py:681: UserWarning: Coordinate descent without L1 regularization may lead to unexpected results and is discouraged. Set l1_ratio > 0 to add L1 regularization.\n",
      "  model = cd_fast.enet_coordinate_descent_gram(\n",
      "/Users/christiancamp/Desktop/Learning Machine Learning/ml-learning-linear-regression-part-2/lin-reg-env/lib/python3.13/site-packages/sklearn/linear_model/_coordinate_descent.py:681: ConvergenceWarning: Objective did not converge. You might want to increase the number of iterations, check the scale of the features or consider increasing regularisation. Duality gap: 5.187e+07, tolerance: 1.289e+04\n",
      "  model = cd_fast.enet_coordinate_descent_gram(\n",
      "/Users/christiancamp/Desktop/Learning Machine Learning/ml-learning-linear-regression-part-2/lin-reg-env/lib/python3.13/site-packages/sklearn/linear_model/_coordinate_descent.py:681: UserWarning: Coordinate descent without L1 regularization may lead to unexpected results and is discouraged. Set l1_ratio > 0 to add L1 regularization.\n",
      "  model = cd_fast.enet_coordinate_descent_gram(\n",
      "/Users/christiancamp/Desktop/Learning Machine Learning/ml-learning-linear-regression-part-2/lin-reg-env/lib/python3.13/site-packages/sklearn/linear_model/_coordinate_descent.py:681: ConvergenceWarning: Objective did not converge. You might want to increase the number of iterations, check the scale of the features or consider increasing regularisation. Duality gap: 5.171e+07, tolerance: 1.289e+04\n",
      "  model = cd_fast.enet_coordinate_descent_gram(\n",
      "/Users/christiancamp/Desktop/Learning Machine Learning/ml-learning-linear-regression-part-2/lin-reg-env/lib/python3.13/site-packages/sklearn/linear_model/_coordinate_descent.py:681: UserWarning: Coordinate descent without L1 regularization may lead to unexpected results and is discouraged. Set l1_ratio > 0 to add L1 regularization.\n",
      "  model = cd_fast.enet_coordinate_descent_gram(\n",
      "/Users/christiancamp/Desktop/Learning Machine Learning/ml-learning-linear-regression-part-2/lin-reg-env/lib/python3.13/site-packages/sklearn/linear_model/_coordinate_descent.py:681: ConvergenceWarning: Objective did not converge. You might want to increase the number of iterations, check the scale of the features or consider increasing regularisation. Duality gap: 5.156e+07, tolerance: 1.289e+04\n",
      "  model = cd_fast.enet_coordinate_descent_gram(\n",
      "/Users/christiancamp/Desktop/Learning Machine Learning/ml-learning-linear-regression-part-2/lin-reg-env/lib/python3.13/site-packages/sklearn/linear_model/_coordinate_descent.py:681: UserWarning: Coordinate descent without L1 regularization may lead to unexpected results and is discouraged. Set l1_ratio > 0 to add L1 regularization.\n",
      "  model = cd_fast.enet_coordinate_descent_gram(\n",
      "/Users/christiancamp/Desktop/Learning Machine Learning/ml-learning-linear-regression-part-2/lin-reg-env/lib/python3.13/site-packages/sklearn/linear_model/_coordinate_descent.py:681: ConvergenceWarning: Objective did not converge. You might want to increase the number of iterations, check the scale of the features or consider increasing regularisation. Duality gap: 5.142e+07, tolerance: 1.289e+04\n",
      "  model = cd_fast.enet_coordinate_descent_gram(\n",
      "/Users/christiancamp/Desktop/Learning Machine Learning/ml-learning-linear-regression-part-2/lin-reg-env/lib/python3.13/site-packages/sklearn/linear_model/_coordinate_descent.py:681: UserWarning: Coordinate descent without L1 regularization may lead to unexpected results and is discouraged. Set l1_ratio > 0 to add L1 regularization.\n",
      "  model = cd_fast.enet_coordinate_descent_gram(\n",
      "/Users/christiancamp/Desktop/Learning Machine Learning/ml-learning-linear-regression-part-2/lin-reg-env/lib/python3.13/site-packages/sklearn/linear_model/_coordinate_descent.py:681: ConvergenceWarning: Objective did not converge. You might want to increase the number of iterations, check the scale of the features or consider increasing regularisation. Duality gap: 5.128e+07, tolerance: 1.289e+04\n",
      "  model = cd_fast.enet_coordinate_descent_gram(\n",
      "/Users/christiancamp/Desktop/Learning Machine Learning/ml-learning-linear-regression-part-2/lin-reg-env/lib/python3.13/site-packages/sklearn/linear_model/_coordinate_descent.py:681: UserWarning: Coordinate descent without L1 regularization may lead to unexpected results and is discouraged. Set l1_ratio > 0 to add L1 regularization.\n",
      "  model = cd_fast.enet_coordinate_descent_gram(\n",
      "/Users/christiancamp/Desktop/Learning Machine Learning/ml-learning-linear-regression-part-2/lin-reg-env/lib/python3.13/site-packages/sklearn/linear_model/_coordinate_descent.py:681: ConvergenceWarning: Objective did not converge. You might want to increase the number of iterations, check the scale of the features or consider increasing regularisation. Duality gap: 5.115e+07, tolerance: 1.289e+04\n",
      "  model = cd_fast.enet_coordinate_descent_gram(\n",
      "/Users/christiancamp/Desktop/Learning Machine Learning/ml-learning-linear-regression-part-2/lin-reg-env/lib/python3.13/site-packages/sklearn/linear_model/_coordinate_descent.py:681: UserWarning: Coordinate descent without L1 regularization may lead to unexpected results and is discouraged. Set l1_ratio > 0 to add L1 regularization.\n",
      "  model = cd_fast.enet_coordinate_descent_gram(\n",
      "/Users/christiancamp/Desktop/Learning Machine Learning/ml-learning-linear-regression-part-2/lin-reg-env/lib/python3.13/site-packages/sklearn/linear_model/_coordinate_descent.py:681: ConvergenceWarning: Objective did not converge. You might want to increase the number of iterations, check the scale of the features or consider increasing regularisation. Duality gap: 5.102e+07, tolerance: 1.289e+04\n",
      "  model = cd_fast.enet_coordinate_descent_gram(\n",
      "/Users/christiancamp/Desktop/Learning Machine Learning/ml-learning-linear-regression-part-2/lin-reg-env/lib/python3.13/site-packages/sklearn/linear_model/_coordinate_descent.py:681: UserWarning: Coordinate descent without L1 regularization may lead to unexpected results and is discouraged. Set l1_ratio > 0 to add L1 regularization.\n",
      "  model = cd_fast.enet_coordinate_descent_gram(\n",
      "/Users/christiancamp/Desktop/Learning Machine Learning/ml-learning-linear-regression-part-2/lin-reg-env/lib/python3.13/site-packages/sklearn/linear_model/_coordinate_descent.py:681: ConvergenceWarning: Objective did not converge. You might want to increase the number of iterations, check the scale of the features or consider increasing regularisation. Duality gap: 5.090e+07, tolerance: 1.289e+04\n",
      "  model = cd_fast.enet_coordinate_descent_gram(\n",
      "/Users/christiancamp/Desktop/Learning Machine Learning/ml-learning-linear-regression-part-2/lin-reg-env/lib/python3.13/site-packages/sklearn/linear_model/_coordinate_descent.py:681: UserWarning: Coordinate descent without L1 regularization may lead to unexpected results and is discouraged. Set l1_ratio > 0 to add L1 regularization.\n",
      "  model = cd_fast.enet_coordinate_descent_gram(\n",
      "/Users/christiancamp/Desktop/Learning Machine Learning/ml-learning-linear-regression-part-2/lin-reg-env/lib/python3.13/site-packages/sklearn/linear_model/_coordinate_descent.py:681: ConvergenceWarning: Objective did not converge. You might want to increase the number of iterations, check the scale of the features or consider increasing regularisation. Duality gap: 5.078e+07, tolerance: 1.289e+04\n",
      "  model = cd_fast.enet_coordinate_descent_gram(\n",
      "/Users/christiancamp/Desktop/Learning Machine Learning/ml-learning-linear-regression-part-2/lin-reg-env/lib/python3.13/site-packages/sklearn/linear_model/_coordinate_descent.py:681: UserWarning: Coordinate descent without L1 regularization may lead to unexpected results and is discouraged. Set l1_ratio > 0 to add L1 regularization.\n",
      "  model = cd_fast.enet_coordinate_descent_gram(\n",
      "/Users/christiancamp/Desktop/Learning Machine Learning/ml-learning-linear-regression-part-2/lin-reg-env/lib/python3.13/site-packages/sklearn/linear_model/_coordinate_descent.py:681: ConvergenceWarning: Objective did not converge. You might want to increase the number of iterations, check the scale of the features or consider increasing regularisation. Duality gap: 5.067e+07, tolerance: 1.289e+04\n",
      "  model = cd_fast.enet_coordinate_descent_gram(\n",
      "/Users/christiancamp/Desktop/Learning Machine Learning/ml-learning-linear-regression-part-2/lin-reg-env/lib/python3.13/site-packages/sklearn/linear_model/_coordinate_descent.py:681: UserWarning: Coordinate descent without L1 regularization may lead to unexpected results and is discouraged. Set l1_ratio > 0 to add L1 regularization.\n",
      "  model = cd_fast.enet_coordinate_descent_gram(\n",
      "/Users/christiancamp/Desktop/Learning Machine Learning/ml-learning-linear-regression-part-2/lin-reg-env/lib/python3.13/site-packages/sklearn/linear_model/_coordinate_descent.py:681: ConvergenceWarning: Objective did not converge. You might want to increase the number of iterations, check the scale of the features or consider increasing regularisation. Duality gap: 5.057e+07, tolerance: 1.289e+04\n",
      "  model = cd_fast.enet_coordinate_descent_gram(\n",
      "/Users/christiancamp/Desktop/Learning Machine Learning/ml-learning-linear-regression-part-2/lin-reg-env/lib/python3.13/site-packages/sklearn/linear_model/_coordinate_descent.py:681: UserWarning: Coordinate descent without L1 regularization may lead to unexpected results and is discouraged. Set l1_ratio > 0 to add L1 regularization.\n",
      "  model = cd_fast.enet_coordinate_descent_gram(\n",
      "/Users/christiancamp/Desktop/Learning Machine Learning/ml-learning-linear-regression-part-2/lin-reg-env/lib/python3.13/site-packages/sklearn/linear_model/_coordinate_descent.py:681: ConvergenceWarning: Objective did not converge. You might want to increase the number of iterations, check the scale of the features or consider increasing regularisation. Duality gap: 5.048e+07, tolerance: 1.289e+04\n",
      "  model = cd_fast.enet_coordinate_descent_gram(\n",
      "/Users/christiancamp/Desktop/Learning Machine Learning/ml-learning-linear-regression-part-2/lin-reg-env/lib/python3.13/site-packages/sklearn/linear_model/_coordinate_descent.py:681: UserWarning: Coordinate descent without L1 regularization may lead to unexpected results and is discouraged. Set l1_ratio > 0 to add L1 regularization.\n",
      "  model = cd_fast.enet_coordinate_descent_gram(\n",
      "/Users/christiancamp/Desktop/Learning Machine Learning/ml-learning-linear-regression-part-2/lin-reg-env/lib/python3.13/site-packages/sklearn/linear_model/_coordinate_descent.py:681: ConvergenceWarning: Objective did not converge. You might want to increase the number of iterations, check the scale of the features or consider increasing regularisation. Duality gap: 5.039e+07, tolerance: 1.289e+04\n",
      "  model = cd_fast.enet_coordinate_descent_gram(\n",
      "/Users/christiancamp/Desktop/Learning Machine Learning/ml-learning-linear-regression-part-2/lin-reg-env/lib/python3.13/site-packages/sklearn/linear_model/_coordinate_descent.py:681: UserWarning: Coordinate descent without L1 regularization may lead to unexpected results and is discouraged. Set l1_ratio > 0 to add L1 regularization.\n",
      "  model = cd_fast.enet_coordinate_descent_gram(\n",
      "/Users/christiancamp/Desktop/Learning Machine Learning/ml-learning-linear-regression-part-2/lin-reg-env/lib/python3.13/site-packages/sklearn/linear_model/_coordinate_descent.py:681: ConvergenceWarning: Objective did not converge. You might want to increase the number of iterations, check the scale of the features or consider increasing regularisation. Duality gap: 5.032e+07, tolerance: 1.289e+04\n",
      "  model = cd_fast.enet_coordinate_descent_gram(\n",
      "/Users/christiancamp/Desktop/Learning Machine Learning/ml-learning-linear-regression-part-2/lin-reg-env/lib/python3.13/site-packages/sklearn/linear_model/_coordinate_descent.py:681: UserWarning: Coordinate descent without L1 regularization may lead to unexpected results and is discouraged. Set l1_ratio > 0 to add L1 regularization.\n",
      "  model = cd_fast.enet_coordinate_descent_gram(\n",
      "/Users/christiancamp/Desktop/Learning Machine Learning/ml-learning-linear-regression-part-2/lin-reg-env/lib/python3.13/site-packages/sklearn/linear_model/_coordinate_descent.py:681: ConvergenceWarning: Objective did not converge. You might want to increase the number of iterations, check the scale of the features or consider increasing regularisation. Duality gap: 5.025e+07, tolerance: 1.289e+04\n",
      "  model = cd_fast.enet_coordinate_descent_gram(\n",
      "/Users/christiancamp/Desktop/Learning Machine Learning/ml-learning-linear-regression-part-2/lin-reg-env/lib/python3.13/site-packages/sklearn/linear_model/_coordinate_descent.py:681: UserWarning: Coordinate descent without L1 regularization may lead to unexpected results and is discouraged. Set l1_ratio > 0 to add L1 regularization.\n",
      "  model = cd_fast.enet_coordinate_descent_gram(\n",
      "/Users/christiancamp/Desktop/Learning Machine Learning/ml-learning-linear-regression-part-2/lin-reg-env/lib/python3.13/site-packages/sklearn/linear_model/_coordinate_descent.py:681: ConvergenceWarning: Objective did not converge. You might want to increase the number of iterations, check the scale of the features or consider increasing regularisation. Duality gap: 5.019e+07, tolerance: 1.289e+04\n",
      "  model = cd_fast.enet_coordinate_descent_gram(\n",
      "/Users/christiancamp/Desktop/Learning Machine Learning/ml-learning-linear-regression-part-2/lin-reg-env/lib/python3.13/site-packages/sklearn/linear_model/_coordinate_descent.py:681: UserWarning: Coordinate descent without L1 regularization may lead to unexpected results and is discouraged. Set l1_ratio > 0 to add L1 regularization.\n",
      "  model = cd_fast.enet_coordinate_descent_gram(\n",
      "/Users/christiancamp/Desktop/Learning Machine Learning/ml-learning-linear-regression-part-2/lin-reg-env/lib/python3.13/site-packages/sklearn/linear_model/_coordinate_descent.py:681: ConvergenceWarning: Objective did not converge. You might want to increase the number of iterations, check the scale of the features or consider increasing regularisation. Duality gap: 5.014e+07, tolerance: 1.289e+04\n",
      "  model = cd_fast.enet_coordinate_descent_gram(\n",
      "/Users/christiancamp/Desktop/Learning Machine Learning/ml-learning-linear-regression-part-2/lin-reg-env/lib/python3.13/site-packages/sklearn/linear_model/_coordinate_descent.py:681: UserWarning: Coordinate descent without L1 regularization may lead to unexpected results and is discouraged. Set l1_ratio > 0 to add L1 regularization.\n",
      "  model = cd_fast.enet_coordinate_descent_gram(\n",
      "/Users/christiancamp/Desktop/Learning Machine Learning/ml-learning-linear-regression-part-2/lin-reg-env/lib/python3.13/site-packages/sklearn/linear_model/_coordinate_descent.py:681: ConvergenceWarning: Objective did not converge. You might want to increase the number of iterations, check the scale of the features or consider increasing regularisation. Duality gap: 5.009e+07, tolerance: 1.289e+04\n",
      "  model = cd_fast.enet_coordinate_descent_gram(\n",
      "/Users/christiancamp/Desktop/Learning Machine Learning/ml-learning-linear-regression-part-2/lin-reg-env/lib/python3.13/site-packages/sklearn/linear_model/_coordinate_descent.py:681: UserWarning: Coordinate descent without L1 regularization may lead to unexpected results and is discouraged. Set l1_ratio > 0 to add L1 regularization.\n",
      "  model = cd_fast.enet_coordinate_descent_gram(\n",
      "/Users/christiancamp/Desktop/Learning Machine Learning/ml-learning-linear-regression-part-2/lin-reg-env/lib/python3.13/site-packages/sklearn/linear_model/_coordinate_descent.py:681: ConvergenceWarning: Objective did not converge. You might want to increase the number of iterations, check the scale of the features or consider increasing regularisation. Duality gap: 5.005e+07, tolerance: 1.289e+04\n",
      "  model = cd_fast.enet_coordinate_descent_gram(\n",
      "/Users/christiancamp/Desktop/Learning Machine Learning/ml-learning-linear-regression-part-2/lin-reg-env/lib/python3.13/site-packages/sklearn/linear_model/_coordinate_descent.py:681: UserWarning: Coordinate descent without L1 regularization may lead to unexpected results and is discouraged. Set l1_ratio > 0 to add L1 regularization.\n",
      "  model = cd_fast.enet_coordinate_descent_gram(\n",
      "/Users/christiancamp/Desktop/Learning Machine Learning/ml-learning-linear-regression-part-2/lin-reg-env/lib/python3.13/site-packages/sklearn/linear_model/_coordinate_descent.py:681: ConvergenceWarning: Objective did not converge. You might want to increase the number of iterations, check the scale of the features or consider increasing regularisation. Duality gap: 5.002e+07, tolerance: 1.289e+04\n",
      "  model = cd_fast.enet_coordinate_descent_gram(\n",
      "/Users/christiancamp/Desktop/Learning Machine Learning/ml-learning-linear-regression-part-2/lin-reg-env/lib/python3.13/site-packages/sklearn/linear_model/_coordinate_descent.py:681: UserWarning: Coordinate descent without L1 regularization may lead to unexpected results and is discouraged. Set l1_ratio > 0 to add L1 regularization.\n",
      "  model = cd_fast.enet_coordinate_descent_gram(\n",
      "/Users/christiancamp/Desktop/Learning Machine Learning/ml-learning-linear-regression-part-2/lin-reg-env/lib/python3.13/site-packages/sklearn/linear_model/_coordinate_descent.py:681: ConvergenceWarning: Objective did not converge. You might want to increase the number of iterations, check the scale of the features or consider increasing regularisation. Duality gap: 4.999e+07, tolerance: 1.289e+04\n",
      "  model = cd_fast.enet_coordinate_descent_gram(\n",
      "/Users/christiancamp/Desktop/Learning Machine Learning/ml-learning-linear-regression-part-2/lin-reg-env/lib/python3.13/site-packages/sklearn/linear_model/_coordinate_descent.py:681: UserWarning: Coordinate descent without L1 regularization may lead to unexpected results and is discouraged. Set l1_ratio > 0 to add L1 regularization.\n",
      "  model = cd_fast.enet_coordinate_descent_gram(\n",
      "/Users/christiancamp/Desktop/Learning Machine Learning/ml-learning-linear-regression-part-2/lin-reg-env/lib/python3.13/site-packages/sklearn/linear_model/_coordinate_descent.py:681: ConvergenceWarning: Objective did not converge. You might want to increase the number of iterations, check the scale of the features or consider increasing regularisation. Duality gap: 4.997e+07, tolerance: 1.289e+04\n",
      "  model = cd_fast.enet_coordinate_descent_gram(\n",
      "/Users/christiancamp/Desktop/Learning Machine Learning/ml-learning-linear-regression-part-2/lin-reg-env/lib/python3.13/site-packages/sklearn/linear_model/_coordinate_descent.py:681: UserWarning: Coordinate descent without L1 regularization may lead to unexpected results and is discouraged. Set l1_ratio > 0 to add L1 regularization.\n",
      "  model = cd_fast.enet_coordinate_descent_gram(\n",
      "/Users/christiancamp/Desktop/Learning Machine Learning/ml-learning-linear-regression-part-2/lin-reg-env/lib/python3.13/site-packages/sklearn/linear_model/_coordinate_descent.py:681: ConvergenceWarning: Objective did not converge. You might want to increase the number of iterations, check the scale of the features or consider increasing regularisation. Duality gap: 4.995e+07, tolerance: 1.289e+04\n",
      "  model = cd_fast.enet_coordinate_descent_gram(\n",
      "/Users/christiancamp/Desktop/Learning Machine Learning/ml-learning-linear-regression-part-2/lin-reg-env/lib/python3.13/site-packages/sklearn/linear_model/_coordinate_descent.py:681: UserWarning: Coordinate descent without L1 regularization may lead to unexpected results and is discouraged. Set l1_ratio > 0 to add L1 regularization.\n",
      "  model = cd_fast.enet_coordinate_descent_gram(\n",
      "/Users/christiancamp/Desktop/Learning Machine Learning/ml-learning-linear-regression-part-2/lin-reg-env/lib/python3.13/site-packages/sklearn/linear_model/_coordinate_descent.py:681: ConvergenceWarning: Objective did not converge. You might want to increase the number of iterations, check the scale of the features or consider increasing regularisation. Duality gap: 4.994e+07, tolerance: 1.289e+04\n",
      "  model = cd_fast.enet_coordinate_descent_gram(\n",
      "/Users/christiancamp/Desktop/Learning Machine Learning/ml-learning-linear-regression-part-2/lin-reg-env/lib/python3.13/site-packages/sklearn/linear_model/_coordinate_descent.py:681: UserWarning: Coordinate descent without L1 regularization may lead to unexpected results and is discouraged. Set l1_ratio > 0 to add L1 regularization.\n",
      "  model = cd_fast.enet_coordinate_descent_gram(\n",
      "/Users/christiancamp/Desktop/Learning Machine Learning/ml-learning-linear-regression-part-2/lin-reg-env/lib/python3.13/site-packages/sklearn/linear_model/_coordinate_descent.py:681: ConvergenceWarning: Objective did not converge. You might want to increase the number of iterations, check the scale of the features or consider increasing regularisation. Duality gap: 4.992e+07, tolerance: 1.289e+04\n",
      "  model = cd_fast.enet_coordinate_descent_gram(\n",
      "/Users/christiancamp/Desktop/Learning Machine Learning/ml-learning-linear-regression-part-2/lin-reg-env/lib/python3.13/site-packages/sklearn/linear_model/_coordinate_descent.py:681: UserWarning: Coordinate descent without L1 regularization may lead to unexpected results and is discouraged. Set l1_ratio > 0 to add L1 regularization.\n",
      "  model = cd_fast.enet_coordinate_descent_gram(\n",
      "/Users/christiancamp/Desktop/Learning Machine Learning/ml-learning-linear-regression-part-2/lin-reg-env/lib/python3.13/site-packages/sklearn/linear_model/_coordinate_descent.py:681: ConvergenceWarning: Objective did not converge. You might want to increase the number of iterations, check the scale of the features or consider increasing regularisation. Duality gap: 4.991e+07, tolerance: 1.289e+04\n",
      "  model = cd_fast.enet_coordinate_descent_gram(\n",
      "/Users/christiancamp/Desktop/Learning Machine Learning/ml-learning-linear-regression-part-2/lin-reg-env/lib/python3.13/site-packages/sklearn/linear_model/_coordinate_descent.py:681: UserWarning: Coordinate descent without L1 regularization may lead to unexpected results and is discouraged. Set l1_ratio > 0 to add L1 regularization.\n",
      "  model = cd_fast.enet_coordinate_descent_gram(\n",
      "/Users/christiancamp/Desktop/Learning Machine Learning/ml-learning-linear-regression-part-2/lin-reg-env/lib/python3.13/site-packages/sklearn/linear_model/_coordinate_descent.py:681: ConvergenceWarning: Objective did not converge. You might want to increase the number of iterations, check the scale of the features or consider increasing regularisation. Duality gap: 4.990e+07, tolerance: 1.289e+04\n",
      "  model = cd_fast.enet_coordinate_descent_gram(\n",
      "/Users/christiancamp/Desktop/Learning Machine Learning/ml-learning-linear-regression-part-2/lin-reg-env/lib/python3.13/site-packages/sklearn/linear_model/_coordinate_descent.py:681: UserWarning: Coordinate descent without L1 regularization may lead to unexpected results and is discouraged. Set l1_ratio > 0 to add L1 regularization.\n",
      "  model = cd_fast.enet_coordinate_descent_gram(\n",
      "/Users/christiancamp/Desktop/Learning Machine Learning/ml-learning-linear-regression-part-2/lin-reg-env/lib/python3.13/site-packages/sklearn/linear_model/_coordinate_descent.py:681: ConvergenceWarning: Objective did not converge. You might want to increase the number of iterations, check the scale of the features or consider increasing regularisation. Duality gap: 4.990e+07, tolerance: 1.289e+04\n",
      "  model = cd_fast.enet_coordinate_descent_gram(\n",
      "/Users/christiancamp/Desktop/Learning Machine Learning/ml-learning-linear-regression-part-2/lin-reg-env/lib/python3.13/site-packages/sklearn/linear_model/_coordinate_descent.py:681: UserWarning: Coordinate descent without L1 regularization may lead to unexpected results and is discouraged. Set l1_ratio > 0 to add L1 regularization.\n",
      "  model = cd_fast.enet_coordinate_descent_gram(\n",
      "/Users/christiancamp/Desktop/Learning Machine Learning/ml-learning-linear-regression-part-2/lin-reg-env/lib/python3.13/site-packages/sklearn/linear_model/_coordinate_descent.py:681: ConvergenceWarning: Objective did not converge. You might want to increase the number of iterations, check the scale of the features or consider increasing regularisation. Duality gap: 4.989e+07, tolerance: 1.289e+04\n",
      "  model = cd_fast.enet_coordinate_descent_gram(\n",
      "/Users/christiancamp/Desktop/Learning Machine Learning/ml-learning-linear-regression-part-2/lin-reg-env/lib/python3.13/site-packages/sklearn/linear_model/_coordinate_descent.py:681: UserWarning: Coordinate descent without L1 regularization may lead to unexpected results and is discouraged. Set l1_ratio > 0 to add L1 regularization.\n",
      "  model = cd_fast.enet_coordinate_descent_gram(\n",
      "/Users/christiancamp/Desktop/Learning Machine Learning/ml-learning-linear-regression-part-2/lin-reg-env/lib/python3.13/site-packages/sklearn/linear_model/_coordinate_descent.py:681: ConvergenceWarning: Objective did not converge. You might want to increase the number of iterations, check the scale of the features or consider increasing regularisation. Duality gap: 4.989e+07, tolerance: 1.289e+04\n",
      "  model = cd_fast.enet_coordinate_descent_gram(\n",
      "/Users/christiancamp/Desktop/Learning Machine Learning/ml-learning-linear-regression-part-2/lin-reg-env/lib/python3.13/site-packages/sklearn/linear_model/_coordinate_descent.py:681: UserWarning: Coordinate descent without L1 regularization may lead to unexpected results and is discouraged. Set l1_ratio > 0 to add L1 regularization.\n",
      "  model = cd_fast.enet_coordinate_descent_gram(\n",
      "/Users/christiancamp/Desktop/Learning Machine Learning/ml-learning-linear-regression-part-2/lin-reg-env/lib/python3.13/site-packages/sklearn/linear_model/_coordinate_descent.py:681: ConvergenceWarning: Objective did not converge. You might want to increase the number of iterations, check the scale of the features or consider increasing regularisation. Duality gap: 4.988e+07, tolerance: 1.289e+04\n",
      "  model = cd_fast.enet_coordinate_descent_gram(\n",
      "/Users/christiancamp/Desktop/Learning Machine Learning/ml-learning-linear-regression-part-2/lin-reg-env/lib/python3.13/site-packages/sklearn/linear_model/_coordinate_descent.py:681: UserWarning: Coordinate descent without L1 regularization may lead to unexpected results and is discouraged. Set l1_ratio > 0 to add L1 regularization.\n",
      "  model = cd_fast.enet_coordinate_descent_gram(\n",
      "/Users/christiancamp/Desktop/Learning Machine Learning/ml-learning-linear-regression-part-2/lin-reg-env/lib/python3.13/site-packages/sklearn/linear_model/_coordinate_descent.py:681: ConvergenceWarning: Objective did not converge. You might want to increase the number of iterations, check the scale of the features or consider increasing regularisation. Duality gap: 4.988e+07, tolerance: 1.289e+04\n",
      "  model = cd_fast.enet_coordinate_descent_gram(\n",
      "/Users/christiancamp/Desktop/Learning Machine Learning/ml-learning-linear-regression-part-2/lin-reg-env/lib/python3.13/site-packages/sklearn/linear_model/_coordinate_descent.py:681: UserWarning: Coordinate descent without L1 regularization may lead to unexpected results and is discouraged. Set l1_ratio > 0 to add L1 regularization.\n",
      "  model = cd_fast.enet_coordinate_descent_gram(\n",
      "/Users/christiancamp/Desktop/Learning Machine Learning/ml-learning-linear-regression-part-2/lin-reg-env/lib/python3.13/site-packages/sklearn/linear_model/_coordinate_descent.py:681: ConvergenceWarning: Objective did not converge. You might want to increase the number of iterations, check the scale of the features or consider increasing regularisation. Duality gap: 4.988e+07, tolerance: 1.289e+04\n",
      "  model = cd_fast.enet_coordinate_descent_gram(\n",
      "/Users/christiancamp/Desktop/Learning Machine Learning/ml-learning-linear-regression-part-2/lin-reg-env/lib/python3.13/site-packages/sklearn/linear_model/_coordinate_descent.py:681: UserWarning: Coordinate descent without L1 regularization may lead to unexpected results and is discouraged. Set l1_ratio > 0 to add L1 regularization.\n",
      "  model = cd_fast.enet_coordinate_descent_gram(\n",
      "/Users/christiancamp/Desktop/Learning Machine Learning/ml-learning-linear-regression-part-2/lin-reg-env/lib/python3.13/site-packages/sklearn/linear_model/_coordinate_descent.py:681: ConvergenceWarning: Objective did not converge. You might want to increase the number of iterations, check the scale of the features or consider increasing regularisation. Duality gap: 4.988e+07, tolerance: 1.289e+04\n",
      "  model = cd_fast.enet_coordinate_descent_gram(\n",
      "/Users/christiancamp/Desktop/Learning Machine Learning/ml-learning-linear-regression-part-2/lin-reg-env/lib/python3.13/site-packages/sklearn/linear_model/_coordinate_descent.py:681: UserWarning: Coordinate descent without L1 regularization may lead to unexpected results and is discouraged. Set l1_ratio > 0 to add L1 regularization.\n",
      "  model = cd_fast.enet_coordinate_descent_gram(\n",
      "/Users/christiancamp/Desktop/Learning Machine Learning/ml-learning-linear-regression-part-2/lin-reg-env/lib/python3.13/site-packages/sklearn/linear_model/_coordinate_descent.py:681: ConvergenceWarning: Objective did not converge. You might want to increase the number of iterations, check the scale of the features or consider increasing regularisation. Duality gap: 4.987e+07, tolerance: 1.289e+04\n",
      "  model = cd_fast.enet_coordinate_descent_gram(\n",
      "/Users/christiancamp/Desktop/Learning Machine Learning/ml-learning-linear-regression-part-2/lin-reg-env/lib/python3.13/site-packages/sklearn/linear_model/_coordinate_descent.py:681: UserWarning: Coordinate descent without L1 regularization may lead to unexpected results and is discouraged. Set l1_ratio > 0 to add L1 regularization.\n",
      "  model = cd_fast.enet_coordinate_descent_gram(\n",
      "/Users/christiancamp/Desktop/Learning Machine Learning/ml-learning-linear-regression-part-2/lin-reg-env/lib/python3.13/site-packages/sklearn/linear_model/_coordinate_descent.py:681: ConvergenceWarning: Objective did not converge. You might want to increase the number of iterations, check the scale of the features or consider increasing regularisation. Duality gap: 4.987e+07, tolerance: 1.289e+04\n",
      "  model = cd_fast.enet_coordinate_descent_gram(\n",
      "/Users/christiancamp/Desktop/Learning Machine Learning/ml-learning-linear-regression-part-2/lin-reg-env/lib/python3.13/site-packages/sklearn/linear_model/_coordinate_descent.py:681: UserWarning: Coordinate descent without L1 regularization may lead to unexpected results and is discouraged. Set l1_ratio > 0 to add L1 regularization.\n",
      "  model = cd_fast.enet_coordinate_descent_gram(\n",
      "/Users/christiancamp/Desktop/Learning Machine Learning/ml-learning-linear-regression-part-2/lin-reg-env/lib/python3.13/site-packages/sklearn/linear_model/_coordinate_descent.py:681: ConvergenceWarning: Objective did not converge. You might want to increase the number of iterations, check the scale of the features or consider increasing regularisation. Duality gap: 4.987e+07, tolerance: 1.289e+04\n",
      "  model = cd_fast.enet_coordinate_descent_gram(\n",
      "/Users/christiancamp/Desktop/Learning Machine Learning/ml-learning-linear-regression-part-2/lin-reg-env/lib/python3.13/site-packages/sklearn/linear_model/_coordinate_descent.py:681: UserWarning: Coordinate descent without L1 regularization may lead to unexpected results and is discouraged. Set l1_ratio > 0 to add L1 regularization.\n",
      "  model = cd_fast.enet_coordinate_descent_gram(\n",
      "/Users/christiancamp/Desktop/Learning Machine Learning/ml-learning-linear-regression-part-2/lin-reg-env/lib/python3.13/site-packages/sklearn/linear_model/_coordinate_descent.py:681: ConvergenceWarning: Objective did not converge. You might want to increase the number of iterations, check the scale of the features or consider increasing regularisation. Duality gap: 4.987e+07, tolerance: 1.289e+04\n",
      "  model = cd_fast.enet_coordinate_descent_gram(\n",
      "/Users/christiancamp/Desktop/Learning Machine Learning/ml-learning-linear-regression-part-2/lin-reg-env/lib/python3.13/site-packages/sklearn/linear_model/_coordinate_descent.py:681: UserWarning: Coordinate descent without L1 regularization may lead to unexpected results and is discouraged. Set l1_ratio > 0 to add L1 regularization.\n",
      "  model = cd_fast.enet_coordinate_descent_gram(\n",
      "/Users/christiancamp/Desktop/Learning Machine Learning/ml-learning-linear-regression-part-2/lin-reg-env/lib/python3.13/site-packages/sklearn/linear_model/_coordinate_descent.py:681: ConvergenceWarning: Objective did not converge. You might want to increase the number of iterations, check the scale of the features or consider increasing regularisation. Duality gap: 4.987e+07, tolerance: 1.289e+04\n",
      "  model = cd_fast.enet_coordinate_descent_gram(\n"
     ]
    }
   ],
   "source": [
    "Xs = X - X.mean(0)[None,:]\n",
    "X_scale = X.std(0)\n",
    "Xs = Xs / X_scale[None,:] # Standardize\n",
    "alphas = 10**np.linspace(8, -2, 100) / Y.std()\n",
    "soln_array = skl.ElasticNet.path(Xs,\n",
    "                                 Y,\n",
    "                                 l1_ratio=0.,\n",
    "                                 alphas = alphas)"
   ]
  },
  {
   "cell_type": "code",
   "execution_count": null,
   "id": "808e33a2",
   "metadata": {},
   "outputs": [],
   "source": []
  }
 ],
 "metadata": {
  "kernelspec": {
   "display_name": "lin-reg-env",
   "language": "python",
   "name": "python3"
  },
  "language_info": {
   "codemirror_mode": {
    "name": "ipython",
    "version": 3
   },
   "file_extension": ".py",
   "mimetype": "text/x-python",
   "name": "python",
   "nbconvert_exporter": "python",
   "pygments_lexer": "ipython3",
   "version": "3.13.5"
  }
 },
 "nbformat": 4,
 "nbformat_minor": 5
}
