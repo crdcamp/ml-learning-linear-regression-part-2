{
 "cells": [
  {
   "cell_type": "markdown",
   "id": "252c6f22",
   "metadata": {},
   "source": [
    "# Lab: Linear Models and Regularization Methods\n",
    "\n",
    "Let's import some stuff."
   ]
  },
  {
   "cell_type": "code",
   "execution_count": 7,
   "id": "93fd2568",
   "metadata": {},
   "outputs": [],
   "source": [
    "import numpy as np\n",
    "import pandas as pd\n",
    "from matplotlib.pyplot import subplots\n",
    "from statsmodels.api import OLS\n",
    "import sklearn.model_selection as skm\n",
    "import sklearn.linear_model as skl\n",
    "from sklearn.preprocessing import StandardScaler\n",
    "from ISLP import load_data\n",
    "from ISLP.models import ModelSpec as MS\n",
    "from functools import partial\n",
    "\n",
    "from sklearn.pipeline import Pipeline\n",
    "from sklearn.decomposition import PCA\n",
    "from sklearn.cross_decomposition import PLSRegression\n",
    "from ISLP.models import \\\n",
    "    (Stepwise ,\n",
    "    sklearn_selected ,\n",
    "    sklearn_selection_path )\n",
    "from l0bnb import fit_path"
   ]
  },
  {
   "cell_type": "markdown",
   "id": "45f04030",
   "metadata": {},
   "source": [
    "# Subset Selection Methods\n",
    "\n",
    "Here we implement methods that reduce the number of parameters in a model by restricting the model to a subset of the input variables.\n",
    "\n",
    "## Forward Selection\n",
    "\n",
    "We will apply the forward-selection approach to the `Hitters` data. We wish to predict a baseball player's `Salary` on the basis of various statistics associated with performance in the previous year.\n",
    "\n",
    "First of all, we note that the `Salary` variable is missing for some players. The `np.isnan()` function can be used to identify the missing observations. It returns an array of the same shape as the input vector, with a `True` for any elements that are missing, and a `False` for non-missing elements."
   ]
  },
  {
   "cell_type": "code",
   "execution_count": 13,
   "id": "ed242c87",
   "metadata": {},
   "outputs": [
    {
     "data": {
      "text/plain": [
       "(322, 20)"
      ]
     },
     "execution_count": 13,
     "metadata": {},
     "output_type": "execute_result"
    }
   ],
   "source": [
    "Hitters = load_data('Hitters')\n",
    "np.isnan(Hitters[\"Salary\"]).sum()\n",
    "Hitters.shape"
   ]
  },
  {
   "cell_type": "markdown",
   "id": "103bde43",
   "metadata": {},
   "source": [
    "We see that `Salary` is missing for 59 players. The `dropna()` method of data frames removes all of the rows that have missing values in any variable."
   ]
  },
  {
   "cell_type": "code",
   "execution_count": 14,
   "id": "3c3a5219",
   "metadata": {},
   "outputs": [
    {
     "data": {
      "text/plain": [
       "(263, 20)"
      ]
     },
     "execution_count": 14,
     "metadata": {},
     "output_type": "execute_result"
    }
   ],
   "source": [
    "Hitters = Hitters.dropna(); # `;` suppresses the output of the given line\n",
    "Hitters.shape"
   ]
  },
  {
   "cell_type": "markdown",
   "id": "37ff2d5e",
   "metadata": {},
   "source": [
    "We first choose the best model using forward selection based on Cp\n",
    "\n",
    "**Note:** Cp is part of the Cp, AIC, BIC, and Adjusted R2 options for estimating the test MSE. We create a test MSE because any sort of interaction with the actual test set would potentially cause overfitting for the model.\n",
    "\n",
    "This score is not built in as a metric to `sklearn`. We therefore define a function to compute it ourselves, and use it as a scorer. By default, `sklearn` tries to maximize a score, hence our scoring function computes the negative Cp statistic."
   ]
  },
  {
   "cell_type": "code",
   "execution_count": 15,
   "id": "de5b6fb1",
   "metadata": {},
   "outputs": [],
   "source": [
    "def nCp(sigma2, estimator, X, Y):\n",
    "    \"Negative Cp statistic\"\n",
    "    n, p = X.shape\n",
    "    Yhat = estimator.predict(X)\n",
    "    RSS = np.sum((Y - Yhat)**2)\n",
    "    return -(RSS + 2 * p * sigma2) / n"
   ]
  },
  {
   "cell_type": "markdown",
   "id": "588b16a0",
   "metadata": {},
   "source": [
    "We need to estimate the residual variance `std**2`, which is the first argument in our scoring function above. We will fit the biggest model,using all the variables, and estimate `std**2` based on its MSE."
   ]
  },
  {
   "cell_type": "code",
   "execution_count": 18,
   "id": "577825b4",
   "metadata": {},
   "outputs": [],
   "source": [
    "design = MS(Hitters.columns.drop(\"Salary\")).fit(Hitters)\n",
    "Y = np.array(Hitters[\"Salary\"])\n",
    "X = design.transform(Hitters)\n",
    "sigma2 = OLS(Y, X).fit().scale"
   ]
  },
  {
   "cell_type": "markdown",
   "id": "b6d7fd10",
   "metadata": {},
   "source": [
    "The function `sklearn_selected()` expects a scorer with just three arguments-the last three in the definition of `nCp()` above. We use the function `partial()` to freeze the first argument with our estimate of `std**2`."
   ]
  },
  {
   "cell_type": "code",
   "execution_count": 21,
   "id": "7a9f35f9",
   "metadata": {},
   "outputs": [],
   "source": [
    "neg_Cp = partial(nCp, sigma2)"
   ]
  },
  {
   "cell_type": "markdown",
   "id": "77c20d93",
   "metadata": {},
   "source": [
    "We can now use the `neg_Cp()` as a scorer for model selection.\n",
    "\n",
    "Along with a score we need to specify the search strategy. This is done through the objecrt `Stepwise()` in the `ISLP.models` package. The method `Stepwise.first_peak()` runs forward stepwise until any further additions to the model do not result in an improvement in the evaluation score.\n",
    "\n",
    "Similarly, the method `Stepwise.fixed_steps()` runs a fixed number of steps of stepwise search."
   ]
  },
  {
   "cell_type": "code",
   "execution_count": 22,
   "id": "f0892558",
   "metadata": {},
   "outputs": [],
   "source": [
    "strategy = Stepwise.first_peak(design,\n",
    "                               direction=\"forward\",\n",
    "                               max_terms=len(design.terms))"
   ]
  },
  {
   "cell_type": "markdown",
   "id": "1ee6a0f7",
   "metadata": {},
   "source": [
    "We now fit a linear regression model with `Salary` as outcome using forward selection. To do so, we use the function `sklearn_selected()` from the `ISLP.models` package. This takes a model from `statsmodels` along with a search strategy and selects a model with its `fit` method. Without specifying a `scoring` argument, the score defaults to MSE, and so all 19 variables will be selected."
   ]
  },
  {
   "cell_type": "code",
   "execution_count": 33,
   "id": "a65035d6",
   "metadata": {},
   "outputs": [
    {
     "data": {
      "text/plain": [
       "('Assists',\n",
       " 'AtBat',\n",
       " 'CAtBat',\n",
       " 'CHits',\n",
       " 'CHmRun',\n",
       " 'CRBI',\n",
       " 'CRuns',\n",
       " 'CWalks',\n",
       " 'Division',\n",
       " 'Errors',\n",
       " 'Hits',\n",
       " 'HmRun',\n",
       " 'League',\n",
       " 'NewLeague',\n",
       " 'PutOuts',\n",
       " 'RBI',\n",
       " 'Runs',\n",
       " 'Walks',\n",
       " 'Years')"
      ]
     },
     "execution_count": 33,
     "metadata": {},
     "output_type": "execute_result"
    }
   ],
   "source": [
    "hitters_MSE = sklearn_selected(OLS, strategy)\n",
    "hitters_MSE.fit(Hitters, Y)\n",
    "hitters_MSE.selected_state_"
   ]
  },
  {
   "cell_type": "markdown",
   "id": "114836d0",
   "metadata": {},
   "source": [
    "Using `nug_Cp` results in a smaller model, as expected, with just 10 variables selected."
   ]
  },
  {
   "cell_type": "code",
   "execution_count": 34,
   "id": "b3825532",
   "metadata": {},
   "outputs": [
    {
     "data": {
      "text/plain": [
       "('Assists',\n",
       " 'AtBat',\n",
       " 'CAtBat',\n",
       " 'CRBI',\n",
       " 'CRuns',\n",
       " 'CWalks',\n",
       " 'Division',\n",
       " 'Hits',\n",
       " 'PutOuts',\n",
       " 'Walks')"
      ]
     },
     "execution_count": 34,
     "metadata": {},
     "output_type": "execute_result"
    }
   ],
   "source": [
    "hitters_Cp = sklearn_selected(OLS,\n",
    "                              strategy,\n",
    "                              scoring=neg_Cp)\n",
    "hitters_Cp.fit(Hitters, Y)\n",
    "hitters_Cp.selected_state_"
   ]
  },
  {
   "cell_type": "markdown",
   "id": "26122c6a",
   "metadata": {},
   "source": [
    "## Choosing Among Models Using the Validation Set Approach and Cross-Validation"
   ]
  }
 ],
 "metadata": {
  "kernelspec": {
   "display_name": "lin-reg-env",
   "language": "python",
   "name": "python3"
  },
  "language_info": {
   "codemirror_mode": {
    "name": "ipython",
    "version": 3
   },
   "file_extension": ".py",
   "mimetype": "text/x-python",
   "name": "python",
   "nbconvert_exporter": "python",
   "pygments_lexer": "ipython3",
   "version": "3.13.5"
  }
 },
 "nbformat": 4,
 "nbformat_minor": 5
}
